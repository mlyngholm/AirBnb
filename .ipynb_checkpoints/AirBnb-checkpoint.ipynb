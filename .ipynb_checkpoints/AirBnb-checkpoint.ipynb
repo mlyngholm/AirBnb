{
 "cells": [
  {
   "cell_type": "markdown",
   "id": "b2dbc7db",
   "metadata": {},
   "source": [
    "# AirBnb"
   ]
  },
  {
   "cell_type": "code",
   "execution_count": 99,
   "id": "bd409971",
   "metadata": {},
   "outputs": [],
   "source": [
    "import pandas as pd\n",
    "import numpy as np\n",
    "import seaborn as sns\n",
    "import matplotlib.pyplot as plt"
   ]
  },
  {
   "cell_type": "code",
   "execution_count": 100,
   "id": "d52b1c89",
   "metadata": {},
   "outputs": [
    {
     "name": "stderr",
     "output_type": "stream",
     "text": [
      "/var/folders/09/89vgqkmd3mq14q_6bkk_t7vm0000gn/T/ipykernel_86935/207706106.py:1: DtypeWarning: Columns (25) have mixed types. Specify dtype option on import or set low_memory=False.\n",
      "  df = pd.read_csv(\"Airbnb_Open_Data.csv\")\n"
     ]
    },
    {
     "data": {
      "text/html": [
       "<div>\n",
       "<style scoped>\n",
       "    .dataframe tbody tr th:only-of-type {\n",
       "        vertical-align: middle;\n",
       "    }\n",
       "\n",
       "    .dataframe tbody tr th {\n",
       "        vertical-align: top;\n",
       "    }\n",
       "\n",
       "    .dataframe thead th {\n",
       "        text-align: right;\n",
       "    }\n",
       "</style>\n",
       "<table border=\"1\" class=\"dataframe\">\n",
       "  <thead>\n",
       "    <tr style=\"text-align: right;\">\n",
       "      <th></th>\n",
       "      <th>id</th>\n",
       "      <th>NAME</th>\n",
       "      <th>host id</th>\n",
       "      <th>host_identity_verified</th>\n",
       "      <th>host name</th>\n",
       "      <th>neighbourhood group</th>\n",
       "      <th>neighbourhood</th>\n",
       "      <th>lat</th>\n",
       "      <th>long</th>\n",
       "      <th>country</th>\n",
       "      <th>...</th>\n",
       "      <th>service fee</th>\n",
       "      <th>minimum nights</th>\n",
       "      <th>number of reviews</th>\n",
       "      <th>last review</th>\n",
       "      <th>reviews per month</th>\n",
       "      <th>review rate number</th>\n",
       "      <th>calculated host listings count</th>\n",
       "      <th>availability 365</th>\n",
       "      <th>house_rules</th>\n",
       "      <th>license</th>\n",
       "    </tr>\n",
       "  </thead>\n",
       "  <tbody>\n",
       "    <tr>\n",
       "      <th>0</th>\n",
       "      <td>1001254</td>\n",
       "      <td>Clean &amp; quiet apt home by the park</td>\n",
       "      <td>80014485718</td>\n",
       "      <td>unconfirmed</td>\n",
       "      <td>Madaline</td>\n",
       "      <td>Brooklyn</td>\n",
       "      <td>Kensington</td>\n",
       "      <td>40.64749</td>\n",
       "      <td>-73.97237</td>\n",
       "      <td>United States</td>\n",
       "      <td>...</td>\n",
       "      <td>$193</td>\n",
       "      <td>10.0</td>\n",
       "      <td>9.0</td>\n",
       "      <td>10/19/2021</td>\n",
       "      <td>0.21</td>\n",
       "      <td>4.0</td>\n",
       "      <td>6.0</td>\n",
       "      <td>286.0</td>\n",
       "      <td>Clean up and treat the home the way you'd like...</td>\n",
       "      <td>NaN</td>\n",
       "    </tr>\n",
       "    <tr>\n",
       "      <th>1</th>\n",
       "      <td>1002102</td>\n",
       "      <td>Skylit Midtown Castle</td>\n",
       "      <td>52335172823</td>\n",
       "      <td>verified</td>\n",
       "      <td>Jenna</td>\n",
       "      <td>Manhattan</td>\n",
       "      <td>Midtown</td>\n",
       "      <td>40.75362</td>\n",
       "      <td>-73.98377</td>\n",
       "      <td>United States</td>\n",
       "      <td>...</td>\n",
       "      <td>$28</td>\n",
       "      <td>30.0</td>\n",
       "      <td>45.0</td>\n",
       "      <td>5/21/2022</td>\n",
       "      <td>0.38</td>\n",
       "      <td>4.0</td>\n",
       "      <td>2.0</td>\n",
       "      <td>228.0</td>\n",
       "      <td>Pet friendly but please confirm with me if the...</td>\n",
       "      <td>NaN</td>\n",
       "    </tr>\n",
       "    <tr>\n",
       "      <th>2</th>\n",
       "      <td>1002403</td>\n",
       "      <td>THE VILLAGE OF HARLEM....NEW YORK !</td>\n",
       "      <td>78829239556</td>\n",
       "      <td>NaN</td>\n",
       "      <td>Elise</td>\n",
       "      <td>Manhattan</td>\n",
       "      <td>Harlem</td>\n",
       "      <td>40.80902</td>\n",
       "      <td>-73.94190</td>\n",
       "      <td>United States</td>\n",
       "      <td>...</td>\n",
       "      <td>$124</td>\n",
       "      <td>3.0</td>\n",
       "      <td>0.0</td>\n",
       "      <td>NaN</td>\n",
       "      <td>NaN</td>\n",
       "      <td>5.0</td>\n",
       "      <td>1.0</td>\n",
       "      <td>352.0</td>\n",
       "      <td>I encourage you to use my kitchen, cooking and...</td>\n",
       "      <td>NaN</td>\n",
       "    </tr>\n",
       "    <tr>\n",
       "      <th>3</th>\n",
       "      <td>1002755</td>\n",
       "      <td>NaN</td>\n",
       "      <td>85098326012</td>\n",
       "      <td>unconfirmed</td>\n",
       "      <td>Garry</td>\n",
       "      <td>Brooklyn</td>\n",
       "      <td>Clinton Hill</td>\n",
       "      <td>40.68514</td>\n",
       "      <td>-73.95976</td>\n",
       "      <td>United States</td>\n",
       "      <td>...</td>\n",
       "      <td>$74</td>\n",
       "      <td>30.0</td>\n",
       "      <td>270.0</td>\n",
       "      <td>7/5/2019</td>\n",
       "      <td>4.64</td>\n",
       "      <td>4.0</td>\n",
       "      <td>1.0</td>\n",
       "      <td>322.0</td>\n",
       "      <td>NaN</td>\n",
       "      <td>NaN</td>\n",
       "    </tr>\n",
       "    <tr>\n",
       "      <th>4</th>\n",
       "      <td>1003689</td>\n",
       "      <td>Entire Apt: Spacious Studio/Loft by central park</td>\n",
       "      <td>92037596077</td>\n",
       "      <td>verified</td>\n",
       "      <td>Lyndon</td>\n",
       "      <td>Manhattan</td>\n",
       "      <td>East Harlem</td>\n",
       "      <td>40.79851</td>\n",
       "      <td>-73.94399</td>\n",
       "      <td>United States</td>\n",
       "      <td>...</td>\n",
       "      <td>$41</td>\n",
       "      <td>10.0</td>\n",
       "      <td>9.0</td>\n",
       "      <td>11/19/2018</td>\n",
       "      <td>0.10</td>\n",
       "      <td>3.0</td>\n",
       "      <td>1.0</td>\n",
       "      <td>289.0</td>\n",
       "      <td>Please no smoking in the house, porch or on th...</td>\n",
       "      <td>NaN</td>\n",
       "    </tr>\n",
       "    <tr>\n",
       "      <th>...</th>\n",
       "      <td>...</td>\n",
       "      <td>...</td>\n",
       "      <td>...</td>\n",
       "      <td>...</td>\n",
       "      <td>...</td>\n",
       "      <td>...</td>\n",
       "      <td>...</td>\n",
       "      <td>...</td>\n",
       "      <td>...</td>\n",
       "      <td>...</td>\n",
       "      <td>...</td>\n",
       "      <td>...</td>\n",
       "      <td>...</td>\n",
       "      <td>...</td>\n",
       "      <td>...</td>\n",
       "      <td>...</td>\n",
       "      <td>...</td>\n",
       "      <td>...</td>\n",
       "      <td>...</td>\n",
       "      <td>...</td>\n",
       "      <td>...</td>\n",
       "    </tr>\n",
       "    <tr>\n",
       "      <th>102594</th>\n",
       "      <td>6092437</td>\n",
       "      <td>Spare room in Williamsburg</td>\n",
       "      <td>12312296767</td>\n",
       "      <td>verified</td>\n",
       "      <td>Krik</td>\n",
       "      <td>Brooklyn</td>\n",
       "      <td>Williamsburg</td>\n",
       "      <td>40.70862</td>\n",
       "      <td>-73.94651</td>\n",
       "      <td>United States</td>\n",
       "      <td>...</td>\n",
       "      <td>$169</td>\n",
       "      <td>1.0</td>\n",
       "      <td>0.0</td>\n",
       "      <td>NaN</td>\n",
       "      <td>NaN</td>\n",
       "      <td>3.0</td>\n",
       "      <td>1.0</td>\n",
       "      <td>227.0</td>\n",
       "      <td>No Smoking No Parties or Events of any kind Pl...</td>\n",
       "      <td>NaN</td>\n",
       "    </tr>\n",
       "    <tr>\n",
       "      <th>102595</th>\n",
       "      <td>6092990</td>\n",
       "      <td>Best Location near Columbia U</td>\n",
       "      <td>77864383453</td>\n",
       "      <td>unconfirmed</td>\n",
       "      <td>Mifan</td>\n",
       "      <td>Manhattan</td>\n",
       "      <td>Morningside Heights</td>\n",
       "      <td>40.80460</td>\n",
       "      <td>-73.96545</td>\n",
       "      <td>United States</td>\n",
       "      <td>...</td>\n",
       "      <td>$167</td>\n",
       "      <td>1.0</td>\n",
       "      <td>1.0</td>\n",
       "      <td>7/6/2015</td>\n",
       "      <td>0.02</td>\n",
       "      <td>2.0</td>\n",
       "      <td>2.0</td>\n",
       "      <td>395.0</td>\n",
       "      <td>House rules: Guests agree to the following ter...</td>\n",
       "      <td>NaN</td>\n",
       "    </tr>\n",
       "    <tr>\n",
       "      <th>102596</th>\n",
       "      <td>6093542</td>\n",
       "      <td>Comfy, bright room in Brooklyn</td>\n",
       "      <td>69050334417</td>\n",
       "      <td>unconfirmed</td>\n",
       "      <td>Megan</td>\n",
       "      <td>Brooklyn</td>\n",
       "      <td>Park Slope</td>\n",
       "      <td>40.67505</td>\n",
       "      <td>-73.98045</td>\n",
       "      <td>United States</td>\n",
       "      <td>...</td>\n",
       "      <td>$198</td>\n",
       "      <td>3.0</td>\n",
       "      <td>0.0</td>\n",
       "      <td>NaN</td>\n",
       "      <td>NaN</td>\n",
       "      <td>5.0</td>\n",
       "      <td>1.0</td>\n",
       "      <td>342.0</td>\n",
       "      <td>NaN</td>\n",
       "      <td>NaN</td>\n",
       "    </tr>\n",
       "    <tr>\n",
       "      <th>102597</th>\n",
       "      <td>6094094</td>\n",
       "      <td>Big Studio-One Stop from Midtown</td>\n",
       "      <td>11160591270</td>\n",
       "      <td>unconfirmed</td>\n",
       "      <td>Christopher</td>\n",
       "      <td>Queens</td>\n",
       "      <td>Long Island City</td>\n",
       "      <td>40.74989</td>\n",
       "      <td>-73.93777</td>\n",
       "      <td>United States</td>\n",
       "      <td>...</td>\n",
       "      <td>$109</td>\n",
       "      <td>2.0</td>\n",
       "      <td>5.0</td>\n",
       "      <td>10/11/2015</td>\n",
       "      <td>0.10</td>\n",
       "      <td>3.0</td>\n",
       "      <td>1.0</td>\n",
       "      <td>386.0</td>\n",
       "      <td>NaN</td>\n",
       "      <td>NaN</td>\n",
       "    </tr>\n",
       "    <tr>\n",
       "      <th>102598</th>\n",
       "      <td>6094647</td>\n",
       "      <td>585 sf Luxury Studio</td>\n",
       "      <td>68170633372</td>\n",
       "      <td>unconfirmed</td>\n",
       "      <td>Rebecca</td>\n",
       "      <td>Manhattan</td>\n",
       "      <td>Upper West Side</td>\n",
       "      <td>40.76807</td>\n",
       "      <td>-73.98342</td>\n",
       "      <td>United States</td>\n",
       "      <td>...</td>\n",
       "      <td>$206</td>\n",
       "      <td>1.0</td>\n",
       "      <td>0.0</td>\n",
       "      <td>NaN</td>\n",
       "      <td>NaN</td>\n",
       "      <td>3.0</td>\n",
       "      <td>1.0</td>\n",
       "      <td>69.0</td>\n",
       "      <td>NaN</td>\n",
       "      <td>NaN</td>\n",
       "    </tr>\n",
       "  </tbody>\n",
       "</table>\n",
       "<p>102599 rows × 26 columns</p>\n",
       "</div>"
      ],
      "text/plain": [
       "             id                                              NAME  \\\n",
       "0       1001254                Clean & quiet apt home by the park   \n",
       "1       1002102                             Skylit Midtown Castle   \n",
       "2       1002403               THE VILLAGE OF HARLEM....NEW YORK !   \n",
       "3       1002755                                               NaN   \n",
       "4       1003689  Entire Apt: Spacious Studio/Loft by central park   \n",
       "...         ...                                               ...   \n",
       "102594  6092437                        Spare room in Williamsburg   \n",
       "102595  6092990                     Best Location near Columbia U   \n",
       "102596  6093542                    Comfy, bright room in Brooklyn   \n",
       "102597  6094094                  Big Studio-One Stop from Midtown   \n",
       "102598  6094647                              585 sf Luxury Studio   \n",
       "\n",
       "            host id host_identity_verified    host name neighbourhood group  \\\n",
       "0       80014485718            unconfirmed     Madaline            Brooklyn   \n",
       "1       52335172823               verified        Jenna           Manhattan   \n",
       "2       78829239556                    NaN        Elise           Manhattan   \n",
       "3       85098326012            unconfirmed        Garry            Brooklyn   \n",
       "4       92037596077               verified       Lyndon           Manhattan   \n",
       "...             ...                    ...          ...                 ...   \n",
       "102594  12312296767               verified         Krik            Brooklyn   \n",
       "102595  77864383453            unconfirmed        Mifan           Manhattan   \n",
       "102596  69050334417            unconfirmed        Megan            Brooklyn   \n",
       "102597  11160591270            unconfirmed  Christopher              Queens   \n",
       "102598  68170633372            unconfirmed      Rebecca           Manhattan   \n",
       "\n",
       "              neighbourhood       lat      long        country  ...  \\\n",
       "0                Kensington  40.64749 -73.97237  United States  ...   \n",
       "1                   Midtown  40.75362 -73.98377  United States  ...   \n",
       "2                    Harlem  40.80902 -73.94190  United States  ...   \n",
       "3              Clinton Hill  40.68514 -73.95976  United States  ...   \n",
       "4               East Harlem  40.79851 -73.94399  United States  ...   \n",
       "...                     ...       ...       ...            ...  ...   \n",
       "102594         Williamsburg  40.70862 -73.94651  United States  ...   \n",
       "102595  Morningside Heights  40.80460 -73.96545  United States  ...   \n",
       "102596           Park Slope  40.67505 -73.98045  United States  ...   \n",
       "102597     Long Island City  40.74989 -73.93777  United States  ...   \n",
       "102598      Upper West Side  40.76807 -73.98342  United States  ...   \n",
       "\n",
       "       service fee minimum nights number of reviews last review  \\\n",
       "0            $193            10.0               9.0  10/19/2021   \n",
       "1             $28            30.0              45.0   5/21/2022   \n",
       "2            $124             3.0               0.0         NaN   \n",
       "3             $74            30.0             270.0    7/5/2019   \n",
       "4             $41            10.0               9.0  11/19/2018   \n",
       "...            ...            ...               ...         ...   \n",
       "102594       $169             1.0               0.0         NaN   \n",
       "102595       $167             1.0               1.0    7/6/2015   \n",
       "102596       $198             3.0               0.0         NaN   \n",
       "102597       $109             2.0               5.0  10/11/2015   \n",
       "102598       $206             1.0               0.0         NaN   \n",
       "\n",
       "        reviews per month review rate number calculated host listings count  \\\n",
       "0                    0.21                4.0                            6.0   \n",
       "1                    0.38                4.0                            2.0   \n",
       "2                     NaN                5.0                            1.0   \n",
       "3                    4.64                4.0                            1.0   \n",
       "4                    0.10                3.0                            1.0   \n",
       "...                   ...                ...                            ...   \n",
       "102594                NaN                3.0                            1.0   \n",
       "102595               0.02                2.0                            2.0   \n",
       "102596                NaN                5.0                            1.0   \n",
       "102597               0.10                3.0                            1.0   \n",
       "102598                NaN                3.0                            1.0   \n",
       "\n",
       "        availability 365                                        house_rules  \\\n",
       "0                  286.0  Clean up and treat the home the way you'd like...   \n",
       "1                  228.0  Pet friendly but please confirm with me if the...   \n",
       "2                  352.0  I encourage you to use my kitchen, cooking and...   \n",
       "3                  322.0                                                NaN   \n",
       "4                  289.0  Please no smoking in the house, porch or on th...   \n",
       "...                  ...                                                ...   \n",
       "102594             227.0  No Smoking No Parties or Events of any kind Pl...   \n",
       "102595             395.0  House rules: Guests agree to the following ter...   \n",
       "102596             342.0                                                NaN   \n",
       "102597             386.0                                                NaN   \n",
       "102598              69.0                                                NaN   \n",
       "\n",
       "       license  \n",
       "0          NaN  \n",
       "1          NaN  \n",
       "2          NaN  \n",
       "3          NaN  \n",
       "4          NaN  \n",
       "...        ...  \n",
       "102594     NaN  \n",
       "102595     NaN  \n",
       "102596     NaN  \n",
       "102597     NaN  \n",
       "102598     NaN  \n",
       "\n",
       "[102599 rows x 26 columns]"
      ]
     },
     "execution_count": 100,
     "metadata": {},
     "output_type": "execute_result"
    }
   ],
   "source": [
    "df = pd.read_csv(\"Airbnb_Open_Data.csv\")\n",
    "df"
   ]
  },
  {
   "cell_type": "markdown",
   "id": "79e01197",
   "metadata": {},
   "source": [
    "# EDA"
   ]
  },
  {
   "cell_type": "code",
   "execution_count": 101,
   "id": "6c7383e8",
   "metadata": {},
   "outputs": [
    {
     "name": "stdout",
     "output_type": "stream",
     "text": [
      "<class 'pandas.core.frame.DataFrame'>\n",
      "RangeIndex: 102599 entries, 0 to 102598\n",
      "Data columns (total 26 columns):\n",
      " #   Column                          Non-Null Count   Dtype  \n",
      "---  ------                          --------------   -----  \n",
      " 0   id                              102599 non-null  int64  \n",
      " 1   NAME                            102349 non-null  object \n",
      " 2   host id                         102599 non-null  int64  \n",
      " 3   host_identity_verified          102310 non-null  object \n",
      " 4   host name                       102193 non-null  object \n",
      " 5   neighbourhood group             102570 non-null  object \n",
      " 6   neighbourhood                   102583 non-null  object \n",
      " 7   lat                             102591 non-null  float64\n",
      " 8   long                            102591 non-null  float64\n",
      " 9   country                         102067 non-null  object \n",
      " 10  country code                    102468 non-null  object \n",
      " 11  instant_bookable                102494 non-null  object \n",
      " 12  cancellation_policy             102523 non-null  object \n",
      " 13  room type                       102599 non-null  object \n",
      " 14  Construction year               102385 non-null  float64\n",
      " 15  price                           102352 non-null  object \n",
      " 16  service fee                     102326 non-null  object \n",
      " 17  minimum nights                  102190 non-null  float64\n",
      " 18  number of reviews               102416 non-null  float64\n",
      " 19  last review                     86706 non-null   object \n",
      " 20  reviews per month               86720 non-null   float64\n",
      " 21  review rate number              102273 non-null  float64\n",
      " 22  calculated host listings count  102280 non-null  float64\n",
      " 23  availability 365                102151 non-null  float64\n",
      " 24  house_rules                     50468 non-null   object \n",
      " 25  license                         2 non-null       object \n",
      "dtypes: float64(9), int64(2), object(15)\n",
      "memory usage: 20.4+ MB\n"
     ]
    }
   ],
   "source": [
    "df.info()"
   ]
  },
  {
   "cell_type": "markdown",
   "id": "8d5bd434",
   "metadata": {},
   "source": [
    "Drop unnecesary columns"
   ]
  },
  {
   "cell_type": "code",
   "execution_count": 102,
   "id": "b43f36c5",
   "metadata": {},
   "outputs": [],
   "source": [
    "df = df.drop(columns=['license', 'id', 'host name', 'NAME', 'house_rules', 'instant_bookable', 'Construction year', \n",
    "                     'calculated host listings count'])"
   ]
  },
  {
   "cell_type": "code",
   "execution_count": 103,
   "id": "6a675820",
   "metadata": {},
   "outputs": [
    {
     "name": "stdout",
     "output_type": "stream",
     "text": [
      "<class 'pandas.core.frame.DataFrame'>\n",
      "RangeIndex: 102599 entries, 0 to 102598\n",
      "Data columns (total 18 columns):\n",
      " #   Column                  Non-Null Count   Dtype  \n",
      "---  ------                  --------------   -----  \n",
      " 0   host id                 102599 non-null  int64  \n",
      " 1   host_identity_verified  102310 non-null  object \n",
      " 2   neighbourhood group     102570 non-null  object \n",
      " 3   neighbourhood           102583 non-null  object \n",
      " 4   lat                     102591 non-null  float64\n",
      " 5   long                    102591 non-null  float64\n",
      " 6   country                 102067 non-null  object \n",
      " 7   country code            102468 non-null  object \n",
      " 8   cancellation_policy     102523 non-null  object \n",
      " 9   room type               102599 non-null  object \n",
      " 10  price                   102352 non-null  object \n",
      " 11  service fee             102326 non-null  object \n",
      " 12  minimum nights          102190 non-null  float64\n",
      " 13  number of reviews       102416 non-null  float64\n",
      " 14  last review             86706 non-null   object \n",
      " 15  reviews per month       86720 non-null   float64\n",
      " 16  review rate number      102273 non-null  float64\n",
      " 17  availability 365        102151 non-null  float64\n",
      "dtypes: float64(7), int64(1), object(10)\n",
      "memory usage: 14.1+ MB\n"
     ]
    }
   ],
   "source": [
    "df.info()"
   ]
  },
  {
   "cell_type": "code",
   "execution_count": 104,
   "id": "cd84b023",
   "metadata": {},
   "outputs": [
    {
     "data": {
      "text/html": [
       "<div>\n",
       "<style scoped>\n",
       "    .dataframe tbody tr th:only-of-type {\n",
       "        vertical-align: middle;\n",
       "    }\n",
       "\n",
       "    .dataframe tbody tr th {\n",
       "        vertical-align: top;\n",
       "    }\n",
       "\n",
       "    .dataframe thead th {\n",
       "        text-align: right;\n",
       "    }\n",
       "</style>\n",
       "<table border=\"1\" class=\"dataframe\">\n",
       "  <thead>\n",
       "    <tr style=\"text-align: right;\">\n",
       "      <th></th>\n",
       "      <th>host id</th>\n",
       "      <th>lat</th>\n",
       "      <th>long</th>\n",
       "      <th>minimum nights</th>\n",
       "      <th>number of reviews</th>\n",
       "      <th>reviews per month</th>\n",
       "      <th>review rate number</th>\n",
       "      <th>availability 365</th>\n",
       "    </tr>\n",
       "  </thead>\n",
       "  <tbody>\n",
       "    <tr>\n",
       "      <th>count</th>\n",
       "      <td>1.025990e+05</td>\n",
       "      <td>102591.000000</td>\n",
       "      <td>102591.000000</td>\n",
       "      <td>102190.000000</td>\n",
       "      <td>102416.000000</td>\n",
       "      <td>86720.000000</td>\n",
       "      <td>102273.000000</td>\n",
       "      <td>102151.000000</td>\n",
       "    </tr>\n",
       "    <tr>\n",
       "      <th>mean</th>\n",
       "      <td>4.925411e+10</td>\n",
       "      <td>40.728094</td>\n",
       "      <td>-73.949644</td>\n",
       "      <td>8.135845</td>\n",
       "      <td>27.483743</td>\n",
       "      <td>1.374022</td>\n",
       "      <td>3.279106</td>\n",
       "      <td>141.133254</td>\n",
       "    </tr>\n",
       "    <tr>\n",
       "      <th>std</th>\n",
       "      <td>2.853900e+10</td>\n",
       "      <td>0.055857</td>\n",
       "      <td>0.049521</td>\n",
       "      <td>30.553781</td>\n",
       "      <td>49.508954</td>\n",
       "      <td>1.746621</td>\n",
       "      <td>1.284657</td>\n",
       "      <td>135.435024</td>\n",
       "    </tr>\n",
       "    <tr>\n",
       "      <th>min</th>\n",
       "      <td>1.236005e+08</td>\n",
       "      <td>40.499790</td>\n",
       "      <td>-74.249840</td>\n",
       "      <td>-1223.000000</td>\n",
       "      <td>0.000000</td>\n",
       "      <td>0.010000</td>\n",
       "      <td>1.000000</td>\n",
       "      <td>-10.000000</td>\n",
       "    </tr>\n",
       "    <tr>\n",
       "      <th>25%</th>\n",
       "      <td>2.458333e+10</td>\n",
       "      <td>40.688740</td>\n",
       "      <td>-73.982580</td>\n",
       "      <td>2.000000</td>\n",
       "      <td>1.000000</td>\n",
       "      <td>0.220000</td>\n",
       "      <td>2.000000</td>\n",
       "      <td>3.000000</td>\n",
       "    </tr>\n",
       "    <tr>\n",
       "      <th>50%</th>\n",
       "      <td>4.911774e+10</td>\n",
       "      <td>40.722290</td>\n",
       "      <td>-73.954440</td>\n",
       "      <td>3.000000</td>\n",
       "      <td>7.000000</td>\n",
       "      <td>0.740000</td>\n",
       "      <td>3.000000</td>\n",
       "      <td>96.000000</td>\n",
       "    </tr>\n",
       "    <tr>\n",
       "      <th>75%</th>\n",
       "      <td>7.399650e+10</td>\n",
       "      <td>40.762760</td>\n",
       "      <td>-73.932350</td>\n",
       "      <td>5.000000</td>\n",
       "      <td>30.000000</td>\n",
       "      <td>2.000000</td>\n",
       "      <td>4.000000</td>\n",
       "      <td>269.000000</td>\n",
       "    </tr>\n",
       "    <tr>\n",
       "      <th>max</th>\n",
       "      <td>9.876313e+10</td>\n",
       "      <td>40.916970</td>\n",
       "      <td>-73.705220</td>\n",
       "      <td>5645.000000</td>\n",
       "      <td>1024.000000</td>\n",
       "      <td>90.000000</td>\n",
       "      <td>5.000000</td>\n",
       "      <td>3677.000000</td>\n",
       "    </tr>\n",
       "  </tbody>\n",
       "</table>\n",
       "</div>"
      ],
      "text/plain": [
       "            host id            lat           long  minimum nights  \\\n",
       "count  1.025990e+05  102591.000000  102591.000000   102190.000000   \n",
       "mean   4.925411e+10      40.728094     -73.949644        8.135845   \n",
       "std    2.853900e+10       0.055857       0.049521       30.553781   \n",
       "min    1.236005e+08      40.499790     -74.249840    -1223.000000   \n",
       "25%    2.458333e+10      40.688740     -73.982580        2.000000   \n",
       "50%    4.911774e+10      40.722290     -73.954440        3.000000   \n",
       "75%    7.399650e+10      40.762760     -73.932350        5.000000   \n",
       "max    9.876313e+10      40.916970     -73.705220     5645.000000   \n",
       "\n",
       "       number of reviews  reviews per month  review rate number  \\\n",
       "count      102416.000000       86720.000000       102273.000000   \n",
       "mean           27.483743           1.374022            3.279106   \n",
       "std            49.508954           1.746621            1.284657   \n",
       "min             0.000000           0.010000            1.000000   \n",
       "25%             1.000000           0.220000            2.000000   \n",
       "50%             7.000000           0.740000            3.000000   \n",
       "75%            30.000000           2.000000            4.000000   \n",
       "max          1024.000000          90.000000            5.000000   \n",
       "\n",
       "       availability 365  \n",
       "count     102151.000000  \n",
       "mean         141.133254  \n",
       "std          135.435024  \n",
       "min          -10.000000  \n",
       "25%            3.000000  \n",
       "50%           96.000000  \n",
       "75%          269.000000  \n",
       "max         3677.000000  "
      ]
     },
     "execution_count": 104,
     "metadata": {},
     "output_type": "execute_result"
    }
   ],
   "source": [
    "df.describe()"
   ]
  },
  {
   "cell_type": "code",
   "execution_count": 105,
   "id": "154ac363",
   "metadata": {},
   "outputs": [
    {
     "data": {
      "text/plain": [
       "Index(['host id', 'host_identity_verified', 'neighbourhood group',\n",
       "       'neighbourhood', 'lat', 'long', 'country', 'country code',\n",
       "       'cancellation_policy', 'room type', 'price', 'service fee',\n",
       "       'minimum nights', 'number of reviews', 'last review',\n",
       "       'reviews per month', 'review rate number', 'availability 365'],\n",
       "      dtype='object')"
      ]
     },
     "execution_count": 105,
     "metadata": {},
     "output_type": "execute_result"
    }
   ],
   "source": [
    "df.columns"
   ]
  },
  {
   "cell_type": "code",
   "execution_count": 106,
   "id": "c5d3637a",
   "metadata": {},
   "outputs": [
    {
     "data": {
      "text/plain": [
       "(102599, 18)"
      ]
     },
     "execution_count": 106,
     "metadata": {},
     "output_type": "execute_result"
    }
   ],
   "source": [
    "df.shape"
   ]
  },
  {
   "cell_type": "code",
   "execution_count": 107,
   "id": "4413f777",
   "metadata": {},
   "outputs": [
    {
     "data": {
      "text/plain": [
       "host id                   102057\n",
       "host_identity_verified         2\n",
       "neighbourhood group            7\n",
       "neighbourhood                224\n",
       "lat                        21991\n",
       "long                       17774\n",
       "country                        1\n",
       "country code                   1\n",
       "cancellation_policy            3\n",
       "room type                      4\n",
       "price                       1151\n",
       "service fee                  231\n",
       "minimum nights               153\n",
       "number of reviews            476\n",
       "last review                 2477\n",
       "reviews per month           1016\n",
       "review rate number             5\n",
       "availability 365             438\n",
       "dtype: int64"
      ]
     },
     "execution_count": 107,
     "metadata": {},
     "output_type": "execute_result"
    }
   ],
   "source": [
    "df.nunique(axis=0)"
   ]
  },
  {
   "cell_type": "markdown",
   "id": "8f6c95ca",
   "metadata": {},
   "source": [
    "# Cleaning data"
   ]
  },
  {
   "cell_type": "markdown",
   "id": "87373908",
   "metadata": {},
   "source": [
    "Missing data"
   ]
  },
  {
   "cell_type": "code",
   "execution_count": 108,
   "id": "af376943",
   "metadata": {},
   "outputs": [
    {
     "data": {
      "text/plain": [
       "last review               15.490\n",
       "reviews per month         15.477\n",
       "country                    0.519\n",
       "availability 365           0.437\n",
       "minimum nights             0.399\n",
       "review rate number         0.318\n",
       "host_identity_verified     0.282\n",
       "service fee                0.266\n",
       "price                      0.241\n",
       "number of reviews          0.178\n",
       "country code               0.128\n",
       "cancellation_policy        0.074\n",
       "neighbourhood group        0.028\n",
       "neighbourhood              0.016\n",
       "lat                        0.008\n",
       "long                       0.008\n",
       "host id                    0.000\n",
       "room type                  0.000\n",
       "dtype: float64"
      ]
     },
     "execution_count": 108,
     "metadata": {},
     "output_type": "execute_result"
    }
   ],
   "source": [
    "round(df.isna().sum().sort_values(ascending=False)/len(df)*100,3)"
   ]
  },
  {
   "cell_type": "code",
   "execution_count": 109,
   "id": "72c47c38",
   "metadata": {},
   "outputs": [
    {
     "data": {
      "text/plain": [
       "0         10/19/2021\n",
       "1          5/21/2022\n",
       "2                NaN\n",
       "3           7/5/2019\n",
       "4         11/19/2018\n",
       "             ...    \n",
       "102594           NaN\n",
       "102595      7/6/2015\n",
       "102596           NaN\n",
       "102597    10/11/2015\n",
       "102598           NaN\n",
       "Name: last review, Length: 102599, dtype: object"
      ]
     },
     "execution_count": 109,
     "metadata": {},
     "output_type": "execute_result"
    }
   ],
   "source": [
    "df['last review']"
   ]
  },
  {
   "cell_type": "markdown",
   "id": "24fbeb80",
   "metadata": {},
   "source": [
    "Since \"Last review\" are dates, and listings without a review will not have a review, we can remove this column and instead focus on reviews per month"
   ]
  },
  {
   "cell_type": "code",
   "execution_count": 110,
   "id": "cb30af0b",
   "metadata": {},
   "outputs": [],
   "source": [
    "df.drop(columns='last review', inplace=True)"
   ]
  },
  {
   "cell_type": "code",
   "execution_count": 111,
   "id": "68538a0d",
   "metadata": {},
   "outputs": [
    {
     "data": {
      "text/plain": [
       "Index(['host id', 'host_identity_verified', 'neighbourhood group',\n",
       "       'neighbourhood', 'lat', 'long', 'country', 'country code',\n",
       "       'cancellation_policy', 'room type', 'price', 'service fee',\n",
       "       'minimum nights', 'number of reviews', 'reviews per month',\n",
       "       'review rate number', 'availability 365'],\n",
       "      dtype='object')"
      ]
     },
     "execution_count": 111,
     "metadata": {},
     "output_type": "execute_result"
    }
   ],
   "source": [
    "df.columns"
   ]
  },
  {
   "cell_type": "code",
   "execution_count": 112,
   "id": "d19bcbb5",
   "metadata": {},
   "outputs": [],
   "source": [
    "df['reviews per month'] = df['reviews per month'].replace(np.nan, 0)"
   ]
  },
  {
   "cell_type": "code",
   "execution_count": 113,
   "id": "d207742e",
   "metadata": {},
   "outputs": [
    {
     "data": {
      "text/plain": [
       "0         0.21\n",
       "1         0.38\n",
       "2         0.00\n",
       "3         4.64\n",
       "4         0.10\n",
       "          ... \n",
       "102594    0.00\n",
       "102595    0.02\n",
       "102596    0.00\n",
       "102597    0.10\n",
       "102598    0.00\n",
       "Name: reviews per month, Length: 102599, dtype: float64"
      ]
     },
     "execution_count": 113,
     "metadata": {},
     "output_type": "execute_result"
    }
   ],
   "source": [
    "df['reviews per month']"
   ]
  },
  {
   "cell_type": "markdown",
   "id": "43efc788",
   "metadata": {},
   "source": [
    "###  Column: Country"
   ]
  },
  {
   "cell_type": "code",
   "execution_count": 114,
   "id": "502e10a8",
   "metadata": {},
   "outputs": [
    {
     "data": {
      "text/plain": [
       "(102599, 17)"
      ]
     },
     "execution_count": 114,
     "metadata": {},
     "output_type": "execute_result"
    }
   ],
   "source": [
    "df.shape"
   ]
  },
  {
   "cell_type": "code",
   "execution_count": 115,
   "id": "26941f3c",
   "metadata": {},
   "outputs": [
    {
     "data": {
      "text/plain": [
       "array(['United States', nan], dtype=object)"
      ]
     },
     "execution_count": 115,
     "metadata": {},
     "output_type": "execute_result"
    }
   ],
   "source": [
    "df.country.unique()"
   ]
  },
  {
   "cell_type": "code",
   "execution_count": 116,
   "id": "ffa3d47b",
   "metadata": {},
   "outputs": [
    {
     "data": {
      "text/plain": [
       "532"
      ]
     },
     "execution_count": 116,
     "metadata": {},
     "output_type": "execute_result"
    }
   ],
   "source": [
    "df.country.isnull().sum()"
   ]
  },
  {
   "cell_type": "code",
   "execution_count": 117,
   "id": "ccec6278",
   "metadata": {},
   "outputs": [
    {
     "data": {
      "text/html": [
       "<div>\n",
       "<style scoped>\n",
       "    .dataframe tbody tr th:only-of-type {\n",
       "        vertical-align: middle;\n",
       "    }\n",
       "\n",
       "    .dataframe tbody tr th {\n",
       "        vertical-align: top;\n",
       "    }\n",
       "\n",
       "    .dataframe thead th {\n",
       "        text-align: right;\n",
       "    }\n",
       "</style>\n",
       "<table border=\"1\" class=\"dataframe\">\n",
       "  <thead>\n",
       "    <tr style=\"text-align: right;\">\n",
       "      <th></th>\n",
       "      <th>host id</th>\n",
       "      <th>host_identity_verified</th>\n",
       "      <th>neighbourhood group</th>\n",
       "      <th>neighbourhood</th>\n",
       "      <th>lat</th>\n",
       "      <th>long</th>\n",
       "      <th>country</th>\n",
       "      <th>country code</th>\n",
       "      <th>cancellation_policy</th>\n",
       "      <th>room type</th>\n",
       "      <th>price</th>\n",
       "      <th>service fee</th>\n",
       "      <th>minimum nights</th>\n",
       "      <th>number of reviews</th>\n",
       "      <th>reviews per month</th>\n",
       "      <th>review rate number</th>\n",
       "      <th>availability 365</th>\n",
       "    </tr>\n",
       "  </thead>\n",
       "  <tbody>\n",
       "    <tr>\n",
       "      <th>0</th>\n",
       "      <td>80014485718</td>\n",
       "      <td>unconfirmed</td>\n",
       "      <td>Brooklyn</td>\n",
       "      <td>Kensington</td>\n",
       "      <td>40.64749</td>\n",
       "      <td>-73.97237</td>\n",
       "      <td>United States</td>\n",
       "      <td>US</td>\n",
       "      <td>strict</td>\n",
       "      <td>Private room</td>\n",
       "      <td>$966</td>\n",
       "      <td>$193</td>\n",
       "      <td>10.0</td>\n",
       "      <td>9.0</td>\n",
       "      <td>0.21</td>\n",
       "      <td>4.0</td>\n",
       "      <td>286.0</td>\n",
       "    </tr>\n",
       "    <tr>\n",
       "      <th>1</th>\n",
       "      <td>52335172823</td>\n",
       "      <td>verified</td>\n",
       "      <td>Manhattan</td>\n",
       "      <td>Midtown</td>\n",
       "      <td>40.75362</td>\n",
       "      <td>-73.98377</td>\n",
       "      <td>United States</td>\n",
       "      <td>US</td>\n",
       "      <td>moderate</td>\n",
       "      <td>Entire home/apt</td>\n",
       "      <td>$142</td>\n",
       "      <td>$28</td>\n",
       "      <td>30.0</td>\n",
       "      <td>45.0</td>\n",
       "      <td>0.38</td>\n",
       "      <td>4.0</td>\n",
       "      <td>228.0</td>\n",
       "    </tr>\n",
       "    <tr>\n",
       "      <th>2</th>\n",
       "      <td>78829239556</td>\n",
       "      <td>NaN</td>\n",
       "      <td>Manhattan</td>\n",
       "      <td>Harlem</td>\n",
       "      <td>40.80902</td>\n",
       "      <td>-73.94190</td>\n",
       "      <td>United States</td>\n",
       "      <td>US</td>\n",
       "      <td>flexible</td>\n",
       "      <td>Private room</td>\n",
       "      <td>$620</td>\n",
       "      <td>$124</td>\n",
       "      <td>3.0</td>\n",
       "      <td>0.0</td>\n",
       "      <td>0.00</td>\n",
       "      <td>5.0</td>\n",
       "      <td>352.0</td>\n",
       "    </tr>\n",
       "    <tr>\n",
       "      <th>3</th>\n",
       "      <td>85098326012</td>\n",
       "      <td>unconfirmed</td>\n",
       "      <td>Brooklyn</td>\n",
       "      <td>Clinton Hill</td>\n",
       "      <td>40.68514</td>\n",
       "      <td>-73.95976</td>\n",
       "      <td>United States</td>\n",
       "      <td>US</td>\n",
       "      <td>moderate</td>\n",
       "      <td>Entire home/apt</td>\n",
       "      <td>$368</td>\n",
       "      <td>$74</td>\n",
       "      <td>30.0</td>\n",
       "      <td>270.0</td>\n",
       "      <td>4.64</td>\n",
       "      <td>4.0</td>\n",
       "      <td>322.0</td>\n",
       "    </tr>\n",
       "    <tr>\n",
       "      <th>4</th>\n",
       "      <td>92037596077</td>\n",
       "      <td>verified</td>\n",
       "      <td>Manhattan</td>\n",
       "      <td>East Harlem</td>\n",
       "      <td>40.79851</td>\n",
       "      <td>-73.94399</td>\n",
       "      <td>United States</td>\n",
       "      <td>US</td>\n",
       "      <td>moderate</td>\n",
       "      <td>Entire home/apt</td>\n",
       "      <td>$204</td>\n",
       "      <td>$41</td>\n",
       "      <td>10.0</td>\n",
       "      <td>9.0</td>\n",
       "      <td>0.10</td>\n",
       "      <td>3.0</td>\n",
       "      <td>289.0</td>\n",
       "    </tr>\n",
       "  </tbody>\n",
       "</table>\n",
       "</div>"
      ],
      "text/plain": [
       "       host id host_identity_verified neighbourhood group neighbourhood  \\\n",
       "0  80014485718            unconfirmed            Brooklyn    Kensington   \n",
       "1  52335172823               verified           Manhattan       Midtown   \n",
       "2  78829239556                    NaN           Manhattan        Harlem   \n",
       "3  85098326012            unconfirmed            Brooklyn  Clinton Hill   \n",
       "4  92037596077               verified           Manhattan   East Harlem   \n",
       "\n",
       "        lat      long        country country code cancellation_policy  \\\n",
       "0  40.64749 -73.97237  United States           US              strict   \n",
       "1  40.75362 -73.98377  United States           US            moderate   \n",
       "2  40.80902 -73.94190  United States           US            flexible   \n",
       "3  40.68514 -73.95976  United States           US            moderate   \n",
       "4  40.79851 -73.94399  United States           US            moderate   \n",
       "\n",
       "         room type  price service fee  minimum nights  number of reviews  \\\n",
       "0     Private room  $966        $193             10.0                9.0   \n",
       "1  Entire home/apt  $142         $28             30.0               45.0   \n",
       "2     Private room  $620        $124              3.0                0.0   \n",
       "3  Entire home/apt  $368         $74             30.0              270.0   \n",
       "4  Entire home/apt  $204         $41             10.0                9.0   \n",
       "\n",
       "   reviews per month  review rate number  availability 365  \n",
       "0               0.21                 4.0             286.0  \n",
       "1               0.38                 4.0             228.0  \n",
       "2               0.00                 5.0             352.0  \n",
       "3               4.64                 4.0             322.0  \n",
       "4               0.10                 3.0             289.0  "
      ]
     },
     "execution_count": 117,
     "metadata": {},
     "output_type": "execute_result"
    }
   ],
   "source": [
    "from sklearn.impute import SimpleImputer\n",
    "\n",
    "imputer = SimpleImputer(strategy=\"most_frequent\")\n",
    "\n",
    "df[[\"country\"]] = imputer.fit_transform(df[[\"country\"]])\n",
    "\n",
    "df.head()"
   ]
  },
  {
   "cell_type": "markdown",
   "id": "b66f9e10",
   "metadata": {},
   "source": [
    "### Pending missing values"
   ]
  },
  {
   "cell_type": "code",
   "execution_count": 118,
   "id": "d989c4fd",
   "metadata": {},
   "outputs": [
    {
     "data": {
      "text/plain": [
       "availability 365          0.44\n",
       "minimum nights            0.40\n",
       "review rate number        0.32\n",
       "host_identity_verified    0.28\n",
       "service fee               0.27\n",
       "price                     0.24\n",
       "number of reviews         0.18\n",
       "country code              0.13\n",
       "cancellation_policy       0.07\n",
       "neighbourhood group       0.03\n",
       "neighbourhood             0.02\n",
       "long                      0.01\n",
       "lat                       0.01\n",
       "room type                 0.00\n",
       "country                   0.00\n",
       "reviews per month         0.00\n",
       "host id                   0.00\n",
       "dtype: float64"
      ]
     },
     "execution_count": 118,
     "metadata": {},
     "output_type": "execute_result"
    }
   ],
   "source": [
    "round(df.isna().sum().sort_values(ascending=False)/len(df)*100,2)"
   ]
  },
  {
   "cell_type": "code",
   "execution_count": 119,
   "id": "55abbf20",
   "metadata": {},
   "outputs": [
    {
     "data": {
      "text/plain": [
       "availability 365          448\n",
       "minimum nights            409\n",
       "review rate number        326\n",
       "host_identity_verified    289\n",
       "service fee               273\n",
       "price                     247\n",
       "number of reviews         183\n",
       "country code              131\n",
       "cancellation_policy        76\n",
       "neighbourhood group        29\n",
       "neighbourhood              16\n",
       "long                        8\n",
       "lat                         8\n",
       "room type                   0\n",
       "country                     0\n",
       "reviews per month           0\n",
       "host id                     0\n",
       "dtype: int64"
      ]
     },
     "execution_count": 119,
     "metadata": {},
     "output_type": "execute_result"
    }
   ],
   "source": [
    "df.isnull().sum().sort_values(ascending=False)"
   ]
  },
  {
   "cell_type": "markdown",
   "id": "58881150",
   "metadata": {},
   "source": [
    "For our analysis, we will use neighbourhood group instead of neighbourhood, so we will drop the neighbourhood feature.\n",
    "Since country code and country will show the same information, we will also drop the country code feature"
   ]
  },
  {
   "cell_type": "code",
   "execution_count": 120,
   "id": "b6920c8e",
   "metadata": {
    "scrolled": true
   },
   "outputs": [
    {
     "data": {
      "text/plain": [
       "224"
      ]
     },
     "execution_count": 120,
     "metadata": {},
     "output_type": "execute_result"
    }
   ],
   "source": [
    "df[\"neighbourhood\"].nunique()"
   ]
  },
  {
   "cell_type": "code",
   "execution_count": 121,
   "id": "38663f18",
   "metadata": {},
   "outputs": [],
   "source": [
    "df = df.drop(columns=['neighbourhood'])"
   ]
  },
  {
   "cell_type": "code",
   "execution_count": 122,
   "id": "f0b22092",
   "metadata": {},
   "outputs": [],
   "source": [
    "df = df.drop(columns=['country code'])"
   ]
  },
  {
   "cell_type": "code",
   "execution_count": 123,
   "id": "5f06f019",
   "metadata": {},
   "outputs": [
    {
     "name": "stdout",
     "output_type": "stream",
     "text": [
      "<class 'pandas.core.frame.DataFrame'>\n",
      "RangeIndex: 102599 entries, 0 to 102598\n",
      "Data columns (total 15 columns):\n",
      " #   Column                  Non-Null Count   Dtype  \n",
      "---  ------                  --------------   -----  \n",
      " 0   host id                 102599 non-null  int64  \n",
      " 1   host_identity_verified  102310 non-null  object \n",
      " 2   neighbourhood group     102570 non-null  object \n",
      " 3   lat                     102591 non-null  float64\n",
      " 4   long                    102591 non-null  float64\n",
      " 5   country                 102599 non-null  object \n",
      " 6   cancellation_policy     102523 non-null  object \n",
      " 7   room type               102599 non-null  object \n",
      " 8   price                   102352 non-null  object \n",
      " 9   service fee             102326 non-null  object \n",
      " 10  minimum nights          102190 non-null  float64\n",
      " 11  number of reviews       102416 non-null  float64\n",
      " 12  reviews per month       102599 non-null  float64\n",
      " 13  review rate number      102273 non-null  float64\n",
      " 14  availability 365        102151 non-null  float64\n",
      "dtypes: float64(7), int64(1), object(7)\n",
      "memory usage: 11.7+ MB\n"
     ]
    }
   ],
   "source": [
    "df.info()"
   ]
  },
  {
   "cell_type": "markdown",
   "id": "cc889ebb",
   "metadata": {},
   "source": [
    "### Neighbourhood group: Visualizations"
   ]
  },
  {
   "cell_type": "code",
   "execution_count": 124,
   "id": "8ab2723d",
   "metadata": {},
   "outputs": [
    {
     "data": {
      "text/plain": [
       "<AxesSubplot:xlabel='neighbourhood group', ylabel='Count'>"
      ]
     },
     "execution_count": 124,
     "metadata": {},
     "output_type": "execute_result"
    },
    {
     "data": {
      "image/png": "[encoded data removed]",
      "text/plain": [
       "<Figure size 1008x360 with 1 Axes>"
      ]
     },
     "metadata": {
      "needs_background": "light"
     },
     "output_type": "display_data"
    }
   ],
   "source": [
    "sns.set_palette(\"Paired\")\n",
    "plt.figure(figsize=(14,5))\n",
    "sns.histplot(data = df, x=\"neighbourhood group\")"
   ]
  },
  {
   "cell_type": "code",
   "execution_count": 125,
   "id": "d313e5fb",
   "metadata": {},
   "outputs": [
    {
     "data": {
      "text/plain": [
       "Manhattan        43792\n",
       "Brooklyn         41842\n",
       "Queens           13267\n",
       "Bronx             2712\n",
       "Staten Island      955\n",
       "brookln              1\n",
       "manhatan             1\n",
       "Name: neighbourhood group, dtype: int64"
      ]
     },
     "execution_count": 125,
     "metadata": {},
     "output_type": "execute_result"
    }
   ],
   "source": [
    "df['neighbourhood group'].value_counts()"
   ]
  },
  {
   "cell_type": "code",
   "execution_count": 126,
   "id": "89d9c92e",
   "metadata": {},
   "outputs": [],
   "source": [
    "df['neighbourhood group'] = df['neighbourhood group'].replace({'brookln': 'Brooklyn', 'manhatan': 'Manhattan'})"
   ]
  },
  {
   "cell_type": "code",
   "execution_count": 127,
   "id": "d5dab98d",
   "metadata": {},
   "outputs": [
    {
     "data": {
      "text/plain": [
       "Manhattan        43793\n",
       "Brooklyn         41843\n",
       "Queens           13267\n",
       "Bronx             2712\n",
       "Staten Island      955\n",
       "Name: neighbourhood group, dtype: int64"
      ]
     },
     "execution_count": 127,
     "metadata": {},
     "output_type": "execute_result"
    }
   ],
   "source": [
    "df['neighbourhood group'].value_counts()"
   ]
  },
  {
   "cell_type": "code",
   "execution_count": 128,
   "id": "8b72d894",
   "metadata": {
    "scrolled": false
   },
   "outputs": [
    {
     "data": {
      "text/plain": [
       "<AxesSubplot:title={'center':'Neighbourhood Group'}, xlabel='neighbourhood group', ylabel='Count'>"
      ]
     },
     "execution_count": 128,
     "metadata": {},
     "output_type": "execute_result"
    },
    {
     "data": {
      "image/png": "[encoded data removed]",
      "text/plain": [
       "<Figure size 1008x360 with 1 Axes>"
      ]
     },
     "metadata": {
      "needs_background": "light"
     },
     "output_type": "display_data"
    }
   ],
   "source": [
    "plt.figure(figsize=(14,5))\n",
    "plt.title(\"Neighbourhood Group\")\n",
    "sns.histplot(data = df, x=\"neighbourhood group\")"
   ]
  },
  {
   "cell_type": "markdown",
   "id": "c1eb5a71",
   "metadata": {},
   "source": [
    "## Change numerical columns to float"
   ]
  },
  {
   "cell_type": "code",
   "execution_count": 129,
   "id": "ea676f41",
   "metadata": {},
   "outputs": [
    {
     "name": "stdout",
     "output_type": "stream",
     "text": [
      "<class 'pandas.core.frame.DataFrame'>\n",
      "RangeIndex: 102599 entries, 0 to 102598\n",
      "Data columns (total 15 columns):\n",
      " #   Column                  Non-Null Count   Dtype  \n",
      "---  ------                  --------------   -----  \n",
      " 0   host id                 102599 non-null  int64  \n",
      " 1   host_identity_verified  102310 non-null  object \n",
      " 2   neighbourhood group     102570 non-null  object \n",
      " 3   lat                     102591 non-null  float64\n",
      " 4   long                    102591 non-null  float64\n",
      " 5   country                 102599 non-null  object \n",
      " 6   cancellation_policy     102523 non-null  object \n",
      " 7   room type               102599 non-null  object \n",
      " 8   price                   102352 non-null  object \n",
      " 9   service fee             102326 non-null  object \n",
      " 10  minimum nights          102190 non-null  float64\n",
      " 11  number of reviews       102416 non-null  float64\n",
      " 12  reviews per month       102599 non-null  float64\n",
      " 13  review rate number      102273 non-null  float64\n",
      " 14  availability 365        102151 non-null  float64\n",
      "dtypes: float64(7), int64(1), object(7)\n",
      "memory usage: 11.7+ MB\n"
     ]
    }
   ],
   "source": [
    "df.info()"
   ]
  },
  {
   "cell_type": "markdown",
   "id": "3279bef4",
   "metadata": {},
   "source": [
    "**Change price and service fee from object to float**"
   ]
  },
  {
   "cell_type": "code",
   "execution_count": 130,
   "id": "19d11735",
   "metadata": {
    "scrolled": false
   },
   "outputs": [
    {
     "name": "stderr",
     "output_type": "stream",
     "text": [
      "/var/folders/09/89vgqkmd3mq14q_6bkk_t7vm0000gn/T/ipykernel_86935/1281994989.py:1: FutureWarning: The default value of regex will change from True to False in a future version. In addition, single character regular expressions will *not* be treated as literal strings when regex=True.\n",
      "  df['price'] = df['price'].str.replace(\"$\",\"\")\n"
     ]
    },
    {
     "data": {
      "text/plain": [
       "0          966.0\n",
       "1          142.0\n",
       "2          620.0\n",
       "3          368.0\n",
       "4          204.0\n",
       "           ...  \n",
       "102594     844.0\n",
       "102595     837.0\n",
       "102596     988.0\n",
       "102597     546.0\n",
       "102598    1032.0\n",
       "Name: price, Length: 102599, dtype: float64"
      ]
     },
     "execution_count": 130,
     "metadata": {},
     "output_type": "execute_result"
    }
   ],
   "source": [
    "df['price'] = df['price'].str.replace(\"$\",\"\")\n",
    "df['price'] = df['price'].str.replace(',',\"\")\n",
    "df['price'] = df['price'].astype(float)\n",
    "df['price']"
   ]
  },
  {
   "cell_type": "code",
   "execution_count": 131,
   "id": "da144f1b",
   "metadata": {},
   "outputs": [
    {
     "name": "stderr",
     "output_type": "stream",
     "text": [
      "/var/folders/09/89vgqkmd3mq14q_6bkk_t7vm0000gn/T/ipykernel_86935/698127665.py:1: FutureWarning: The default value of regex will change from True to False in a future version. In addition, single character regular expressions will *not* be treated as literal strings when regex=True.\n",
      "  df['service fee'] = df['service fee'].str.replace(\"$\",\"\")\n"
     ]
    },
    {
     "data": {
      "text/plain": [
       "0         193.0\n",
       "1          28.0\n",
       "2         124.0\n",
       "3          74.0\n",
       "4          41.0\n",
       "          ...  \n",
       "102594    169.0\n",
       "102595    167.0\n",
       "102596    198.0\n",
       "102597    109.0\n",
       "102598    206.0\n",
       "Name: service fee, Length: 102599, dtype: float64"
      ]
     },
     "execution_count": 131,
     "metadata": {},
     "output_type": "execute_result"
    }
   ],
   "source": [
    "df['service fee'] = df['service fee'].str.replace(\"$\",\"\")\n",
    "df['service fee'] = df['service fee'].astype(float)\n",
    "df['service fee']"
   ]
  },
  {
   "cell_type": "code",
   "execution_count": 132,
   "id": "14c8b241",
   "metadata": {},
   "outputs": [
    {
     "name": "stdout",
     "output_type": "stream",
     "text": [
      "<class 'pandas.core.frame.DataFrame'>\n",
      "RangeIndex: 102599 entries, 0 to 102598\n",
      "Data columns (total 15 columns):\n",
      " #   Column                  Non-Null Count   Dtype  \n",
      "---  ------                  --------------   -----  \n",
      " 0   host id                 102599 non-null  int64  \n",
      " 1   host_identity_verified  102310 non-null  object \n",
      " 2   neighbourhood group     102570 non-null  object \n",
      " 3   lat                     102591 non-null  float64\n",
      " 4   long                    102591 non-null  float64\n",
      " 5   country                 102599 non-null  object \n",
      " 6   cancellation_policy     102523 non-null  object \n",
      " 7   room type               102599 non-null  object \n",
      " 8   price                   102352 non-null  float64\n",
      " 9   service fee             102326 non-null  float64\n",
      " 10  minimum nights          102190 non-null  float64\n",
      " 11  number of reviews       102416 non-null  float64\n",
      " 12  reviews per month       102599 non-null  float64\n",
      " 13  review rate number      102273 non-null  float64\n",
      " 14  availability 365        102151 non-null  float64\n",
      "dtypes: float64(9), int64(1), object(5)\n",
      "memory usage: 11.7+ MB\n"
     ]
    }
   ],
   "source": [
    "df.info()"
   ]
  },
  {
   "cell_type": "code",
   "execution_count": 133,
   "id": "e6b51032",
   "metadata": {},
   "outputs": [
    {
     "data": {
      "text/html": [
       "<div>\n",
       "<style scoped>\n",
       "    .dataframe tbody tr th:only-of-type {\n",
       "        vertical-align: middle;\n",
       "    }\n",
       "\n",
       "    .dataframe tbody tr th {\n",
       "        vertical-align: top;\n",
       "    }\n",
       "\n",
       "    .dataframe thead th {\n",
       "        text-align: right;\n",
       "    }\n",
       "</style>\n",
       "<table border=\"1\" class=\"dataframe\">\n",
       "  <thead>\n",
       "    <tr style=\"text-align: right;\">\n",
       "      <th></th>\n",
       "      <th>host id</th>\n",
       "      <th>host_identity_verified</th>\n",
       "      <th>neighbourhood group</th>\n",
       "      <th>lat</th>\n",
       "      <th>long</th>\n",
       "      <th>country</th>\n",
       "      <th>cancellation_policy</th>\n",
       "      <th>room type</th>\n",
       "      <th>price</th>\n",
       "      <th>service fee</th>\n",
       "      <th>minimum nights</th>\n",
       "      <th>number of reviews</th>\n",
       "      <th>reviews per month</th>\n",
       "      <th>review rate number</th>\n",
       "      <th>availability 365</th>\n",
       "      <th>total_price</th>\n",
       "    </tr>\n",
       "  </thead>\n",
       "  <tbody>\n",
       "    <tr>\n",
       "      <th>0</th>\n",
       "      <td>80014485718</td>\n",
       "      <td>unconfirmed</td>\n",
       "      <td>Brooklyn</td>\n",
       "      <td>40.64749</td>\n",
       "      <td>-73.97237</td>\n",
       "      <td>United States</td>\n",
       "      <td>strict</td>\n",
       "      <td>Private room</td>\n",
       "      <td>966.0</td>\n",
       "      <td>193.0</td>\n",
       "      <td>10.0</td>\n",
       "      <td>9.0</td>\n",
       "      <td>0.21</td>\n",
       "      <td>4.0</td>\n",
       "      <td>286.0</td>\n",
       "      <td>1159.0</td>\n",
       "    </tr>\n",
       "    <tr>\n",
       "      <th>1</th>\n",
       "      <td>52335172823</td>\n",
       "      <td>verified</td>\n",
       "      <td>Manhattan</td>\n",
       "      <td>40.75362</td>\n",
       "      <td>-73.98377</td>\n",
       "      <td>United States</td>\n",
       "      <td>moderate</td>\n",
       "      <td>Entire home/apt</td>\n",
       "      <td>142.0</td>\n",
       "      <td>28.0</td>\n",
       "      <td>30.0</td>\n",
       "      <td>45.0</td>\n",
       "      <td>0.38</td>\n",
       "      <td>4.0</td>\n",
       "      <td>228.0</td>\n",
       "      <td>170.0</td>\n",
       "    </tr>\n",
       "    <tr>\n",
       "      <th>2</th>\n",
       "      <td>78829239556</td>\n",
       "      <td>NaN</td>\n",
       "      <td>Manhattan</td>\n",
       "      <td>40.80902</td>\n",
       "      <td>-73.94190</td>\n",
       "      <td>United States</td>\n",
       "      <td>flexible</td>\n",
       "      <td>Private room</td>\n",
       "      <td>620.0</td>\n",
       "      <td>124.0</td>\n",
       "      <td>3.0</td>\n",
       "      <td>0.0</td>\n",
       "      <td>0.00</td>\n",
       "      <td>5.0</td>\n",
       "      <td>352.0</td>\n",
       "      <td>744.0</td>\n",
       "    </tr>\n",
       "    <tr>\n",
       "      <th>3</th>\n",
       "      <td>85098326012</td>\n",
       "      <td>unconfirmed</td>\n",
       "      <td>Brooklyn</td>\n",
       "      <td>40.68514</td>\n",
       "      <td>-73.95976</td>\n",
       "      <td>United States</td>\n",
       "      <td>moderate</td>\n",
       "      <td>Entire home/apt</td>\n",
       "      <td>368.0</td>\n",
       "      <td>74.0</td>\n",
       "      <td>30.0</td>\n",
       "      <td>270.0</td>\n",
       "      <td>4.64</td>\n",
       "      <td>4.0</td>\n",
       "      <td>322.0</td>\n",
       "      <td>442.0</td>\n",
       "    </tr>\n",
       "    <tr>\n",
       "      <th>4</th>\n",
       "      <td>92037596077</td>\n",
       "      <td>verified</td>\n",
       "      <td>Manhattan</td>\n",
       "      <td>40.79851</td>\n",
       "      <td>-73.94399</td>\n",
       "      <td>United States</td>\n",
       "      <td>moderate</td>\n",
       "      <td>Entire home/apt</td>\n",
       "      <td>204.0</td>\n",
       "      <td>41.0</td>\n",
       "      <td>10.0</td>\n",
       "      <td>9.0</td>\n",
       "      <td>0.10</td>\n",
       "      <td>3.0</td>\n",
       "      <td>289.0</td>\n",
       "      <td>245.0</td>\n",
       "    </tr>\n",
       "  </tbody>\n",
       "</table>\n",
       "</div>"
      ],
      "text/plain": [
       "       host id host_identity_verified neighbourhood group       lat      long  \\\n",
       "0  80014485718            unconfirmed            Brooklyn  40.64749 -73.97237   \n",
       "1  52335172823               verified           Manhattan  40.75362 -73.98377   \n",
       "2  78829239556                    NaN           Manhattan  40.80902 -73.94190   \n",
       "3  85098326012            unconfirmed            Brooklyn  40.68514 -73.95976   \n",
       "4  92037596077               verified           Manhattan  40.79851 -73.94399   \n",
       "\n",
       "         country cancellation_policy        room type  price  service fee  \\\n",
       "0  United States              strict     Private room  966.0        193.0   \n",
       "1  United States            moderate  Entire home/apt  142.0         28.0   \n",
       "2  United States            flexible     Private room  620.0        124.0   \n",
       "3  United States            moderate  Entire home/apt  368.0         74.0   \n",
       "4  United States            moderate  Entire home/apt  204.0         41.0   \n",
       "\n",
       "   minimum nights  number of reviews  reviews per month  review rate number  \\\n",
       "0            10.0                9.0               0.21                 4.0   \n",
       "1            30.0               45.0               0.38                 4.0   \n",
       "2             3.0                0.0               0.00                 5.0   \n",
       "3            30.0              270.0               4.64                 4.0   \n",
       "4            10.0                9.0               0.10                 3.0   \n",
       "\n",
       "   availability 365  total_price  \n",
       "0             286.0       1159.0  \n",
       "1             228.0        170.0  \n",
       "2             352.0        744.0  \n",
       "3             322.0        442.0  \n",
       "4             289.0        245.0  "
      ]
     },
     "execution_count": 133,
     "metadata": {},
     "output_type": "execute_result"
    }
   ],
   "source": [
    "df['total_price'] = df['price']+df['service fee']\n",
    "df.head()"
   ]
  },
  {
   "cell_type": "code",
   "execution_count": 135,
   "id": "ec02e3b7",
   "metadata": {},
   "outputs": [
    {
     "data": {
      "text/plain": [
       "<AxesSubplot:xlabel='total_price', ylabel='Count'>"
      ]
     },
     "execution_count": 135,
     "metadata": {},
     "output_type": "execute_result"
    },
    {
     "data": {
      "image/png": "[encoded data removed]",
      "text/plain": [
       "<Figure size 576x360 with 1 Axes>"
      ]
     },
     "metadata": {
      "needs_background": "light"
     },
     "output_type": "display_data"
    }
   ],
   "source": [
    "plt.figure(figsize=(8,5))\n",
    "sns.histplot(data=df, x=\"total_price\", kde=True, bins=10)"
   ]
  },
  {
   "cell_type": "code",
   "execution_count": 136,
   "id": "8a7af5e2",
   "metadata": {},
   "outputs": [],
   "source": [
    "price_min = df.total_price.min()\n",
    "price_max = df.total_price.max()\n",
    "price_mean = df.total_price.mean()"
   ]
  },
  {
   "cell_type": "code",
   "execution_count": 139,
   "id": "36c219eb",
   "metadata": {},
   "outputs": [
    {
     "name": "stdout",
     "output_type": "stream",
     "text": [
      "The minimun total price is 60.0\n",
      "The maximum total price is 1440.0\n",
      "The mean for total price is 750.23\n"
     ]
    }
   ],
   "source": [
    "print(f'The minimun total price is {price_min}')\n",
    "print(f'The maximum total price is {price_max}')\n",
    "print(f'The mean for total price is {round(price_mean,2)}')"
   ]
  },
  {
   "cell_type": "markdown",
   "id": "83d2ee0f",
   "metadata": {},
   "source": [
    "### Price per neighbourhood group"
   ]
  },
  {
   "cell_type": "code",
   "execution_count": 140,
   "id": "d87d9d95",
   "metadata": {},
   "outputs": [
    {
     "data": {
      "text/plain": [
       "<AxesSubplot:xlabel='neighbourhood group', ylabel='total_price'>"
      ]
     },
     "execution_count": 140,
     "metadata": {},
     "output_type": "execute_result"
    },
    {
     "data": {
      "image/png": "[encoded data removed]",
      "text/plain": [
       "<Figure size 432x288 with 1 Axes>"
      ]
     },
     "metadata": {
      "needs_background": "light"
     },
     "output_type": "display_data"
    }
   ],
   "source": [
    "sns.boxenplot(data=df, x='neighbourhood group', y='total_price')"
   ]
  },
  {
   "cell_type": "markdown",
   "id": "9015d17e",
   "metadata": {},
   "source": [
    "### Room Type"
   ]
  },
  {
   "cell_type": "code",
   "execution_count": 141,
   "id": "7bb7d5de",
   "metadata": {},
   "outputs": [
    {
     "name": "stderr",
     "output_type": "stream",
     "text": [
      "/Users/marielyngholm/.pyenv/versions/3.8.12/envs/lewagon/lib/python3.8/site-packages/seaborn/_decorators.py:36: FutureWarning: Pass the following variable as a keyword arg: x. From version 0.12, the only valid positional argument will be `data`, and passing other arguments without an explicit keyword will result in an error or misinterpretation.\n",
      "  warnings.warn(\n"
     ]
    },
    {
     "data": {
      "text/plain": [
       "<AxesSubplot:xlabel='room type', ylabel='count'>"
      ]
     },
     "execution_count": 141,
     "metadata": {},
     "output_type": "execute_result"
    },
    {
     "data": {
      "image/png": "[encoded data removed]",
      "text/plain": [
       "<Figure size 1080x360 with 1 Axes>"
      ]
     },
     "metadata": {
      "needs_background": "light"
     },
     "output_type": "display_data"
    }
   ],
   "source": [
    "plt.figure(figsize=(15,5))\n",
    "sns.countplot(df['room type'])"
   ]
  },
  {
   "cell_type": "code",
   "execution_count": 142,
   "id": "4e702796",
   "metadata": {},
   "outputs": [
    {
     "name": "stderr",
     "output_type": "stream",
     "text": [
      "/Users/marielyngholm/.pyenv/versions/3.8.12/envs/lewagon/lib/python3.8/site-packages/seaborn/_decorators.py:36: FutureWarning: Pass the following variable as a keyword arg: x. From version 0.12, the only valid positional argument will be `data`, and passing other arguments without an explicit keyword will result in an error or misinterpretation.\n",
      "  warnings.warn(\n"
     ]
    },
    {
     "data": {
      "text/plain": [
       "<AxesSubplot:xlabel='neighbourhood group', ylabel='count'>"
      ]
     },
     "execution_count": 142,
     "metadata": {},
     "output_type": "execute_result"
    },
    {
     "data": {
      "image/png": "[encoded data removed]",
      "text/plain": [
       "<Figure size 1080x360 with 1 Axes>"
      ]
     },
     "metadata": {
      "needs_background": "light"
     },
     "output_type": "display_data"
    }
   ],
   "source": [
    "plt.figure(figsize=(15,5))\n",
    "sns.countplot(df['neighbourhood group'], hue=df['room type'])"
   ]
  },
  {
   "cell_type": "markdown",
   "id": "adf0ad2d",
   "metadata": {},
   "source": [
    "### Cancellation policy"
   ]
  },
  {
   "cell_type": "code",
   "execution_count": 149,
   "id": "372c4321",
   "metadata": {},
   "outputs": [
    {
     "data": {
      "text/plain": [
       "moderate    34343\n",
       "strict      34106\n",
       "flexible    34074\n",
       "Name: cancellation_policy, dtype: int64"
      ]
     },
     "execution_count": 149,
     "metadata": {},
     "output_type": "execute_result"
    }
   ],
   "source": [
    "df['cancellation_policy'].value_counts()"
   ]
  },
  {
   "cell_type": "code",
   "execution_count": null,
   "id": "74263bcd",
   "metadata": {},
   "outputs": [],
   "source": []
  },
  {
   "cell_type": "markdown",
   "id": "0e605085",
   "metadata": {},
   "source": [
    "## Map of NYC"
   ]
  },
  {
   "cell_type": "code",
   "execution_count": null,
   "id": "8444df5b",
   "metadata": {},
   "outputs": [],
   "source": []
  }
 ],
 "metadata": {
  "kernelspec": {
   "display_name": "Python 3 (ipykernel)",
   "language": "python",
   "name": "python3"
  },
  "language_info": {
   "codemirror_mode": {
    "name": "ipython",
    "version": 3
   },
   "file_extension": ".py",
   "mimetype": "text/x-python",
   "name": "python",
   "nbconvert_exporter": "python",
   "pygments_lexer": "ipython3",
   "version": "3.8.12"
  },
  "toc": {
   "base_numbering": 1,
   "nav_menu": {},
   "number_sections": true,
   "sideBar": true,
   "skip_h1_title": false,
   "title_cell": "Table of Contents",
   "title_sidebar": "Contents",
   "toc_cell": false,
   "toc_position": {},
   "toc_section_display": true,
   "toc_window_display": false
  }
 },
 "nbformat": 4,
 "nbformat_minor": 5
}
