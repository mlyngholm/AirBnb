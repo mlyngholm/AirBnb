{
 "cells": [
  {
   "cell_type": "markdown",
   "id": "b2dbc7db",
   "metadata": {},
   "source": [
    "# AirBnb"
   ]
  },
  {
   "cell_type": "code",
   "execution_count": 1,
   "id": "bd409971",
   "metadata": {},
   "outputs": [],
   "source": [
    "import pandas as pd\n",
    "import numpy as np\n",
    "import seaborn as sns\n",
    "import matplotlib.pyplot as plt"
   ]
  },
  {
   "cell_type": "code",
   "execution_count": 2,
   "id": "d52b1c89",
   "metadata": {},
   "outputs": [
    {
     "name": "stderr",
     "output_type": "stream",
     "text": [
      "/var/folders/09/89vgqkmd3mq14q_6bkk_t7vm0000gn/T/ipykernel_73989/207706106.py:1: DtypeWarning: Columns (25) have mixed types. Specify dtype option on import or set low_memory=False.\n",
      "  df = pd.read_csv(\"Airbnb_Open_Data.csv\")\n"
     ]
    },
    {
     "data": {
      "text/html": [
       "<div>\n",
       "<style scoped>\n",
       "    .dataframe tbody tr th:only-of-type {\n",
       "        vertical-align: middle;\n",
       "    }\n",
       "\n",
       "    .dataframe tbody tr th {\n",
       "        vertical-align: top;\n",
       "    }\n",
       "\n",
       "    .dataframe thead th {\n",
       "        text-align: right;\n",
       "    }\n",
       "</style>\n",
       "<table border=\"1\" class=\"dataframe\">\n",
       "  <thead>\n",
       "    <tr style=\"text-align: right;\">\n",
       "      <th></th>\n",
       "      <th>id</th>\n",
       "      <th>NAME</th>\n",
       "      <th>host id</th>\n",
       "      <th>host_identity_verified</th>\n",
       "      <th>host name</th>\n",
       "      <th>neighbourhood group</th>\n",
       "      <th>neighbourhood</th>\n",
       "      <th>lat</th>\n",
       "      <th>long</th>\n",
       "      <th>country</th>\n",
       "      <th>...</th>\n",
       "      <th>service fee</th>\n",
       "      <th>minimum nights</th>\n",
       "      <th>number of reviews</th>\n",
       "      <th>last review</th>\n",
       "      <th>reviews per month</th>\n",
       "      <th>review rate number</th>\n",
       "      <th>calculated host listings count</th>\n",
       "      <th>availability 365</th>\n",
       "      <th>house_rules</th>\n",
       "      <th>license</th>\n",
       "    </tr>\n",
       "  </thead>\n",
       "  <tbody>\n",
       "    <tr>\n",
       "      <th>0</th>\n",
       "      <td>1001254</td>\n",
       "      <td>Clean &amp; quiet apt home by the park</td>\n",
       "      <td>80014485718</td>\n",
       "      <td>unconfirmed</td>\n",
       "      <td>Madaline</td>\n",
       "      <td>Brooklyn</td>\n",
       "      <td>Kensington</td>\n",
       "      <td>40.64749</td>\n",
       "      <td>-73.97237</td>\n",
       "      <td>United States</td>\n",
       "      <td>...</td>\n",
       "      <td>$193</td>\n",
       "      <td>10.0</td>\n",
       "      <td>9.0</td>\n",
       "      <td>10/19/2021</td>\n",
       "      <td>0.21</td>\n",
       "      <td>4.0</td>\n",
       "      <td>6.0</td>\n",
       "      <td>286.0</td>\n",
       "      <td>Clean up and treat the home the way you'd like...</td>\n",
       "      <td>NaN</td>\n",
       "    </tr>\n",
       "    <tr>\n",
       "      <th>1</th>\n",
       "      <td>1002102</td>\n",
       "      <td>Skylit Midtown Castle</td>\n",
       "      <td>52335172823</td>\n",
       "      <td>verified</td>\n",
       "      <td>Jenna</td>\n",
       "      <td>Manhattan</td>\n",
       "      <td>Midtown</td>\n",
       "      <td>40.75362</td>\n",
       "      <td>-73.98377</td>\n",
       "      <td>United States</td>\n",
       "      <td>...</td>\n",
       "      <td>$28</td>\n",
       "      <td>30.0</td>\n",
       "      <td>45.0</td>\n",
       "      <td>5/21/2022</td>\n",
       "      <td>0.38</td>\n",
       "      <td>4.0</td>\n",
       "      <td>2.0</td>\n",
       "      <td>228.0</td>\n",
       "      <td>Pet friendly but please confirm with me if the...</td>\n",
       "      <td>NaN</td>\n",
       "    </tr>\n",
       "    <tr>\n",
       "      <th>2</th>\n",
       "      <td>1002403</td>\n",
       "      <td>THE VILLAGE OF HARLEM....NEW YORK !</td>\n",
       "      <td>78829239556</td>\n",
       "      <td>NaN</td>\n",
       "      <td>Elise</td>\n",
       "      <td>Manhattan</td>\n",
       "      <td>Harlem</td>\n",
       "      <td>40.80902</td>\n",
       "      <td>-73.94190</td>\n",
       "      <td>United States</td>\n",
       "      <td>...</td>\n",
       "      <td>$124</td>\n",
       "      <td>3.0</td>\n",
       "      <td>0.0</td>\n",
       "      <td>NaN</td>\n",
       "      <td>NaN</td>\n",
       "      <td>5.0</td>\n",
       "      <td>1.0</td>\n",
       "      <td>352.0</td>\n",
       "      <td>I encourage you to use my kitchen, cooking and...</td>\n",
       "      <td>NaN</td>\n",
       "    </tr>\n",
       "    <tr>\n",
       "      <th>3</th>\n",
       "      <td>1002755</td>\n",
       "      <td>NaN</td>\n",
       "      <td>85098326012</td>\n",
       "      <td>unconfirmed</td>\n",
       "      <td>Garry</td>\n",
       "      <td>Brooklyn</td>\n",
       "      <td>Clinton Hill</td>\n",
       "      <td>40.68514</td>\n",
       "      <td>-73.95976</td>\n",
       "      <td>United States</td>\n",
       "      <td>...</td>\n",
       "      <td>$74</td>\n",
       "      <td>30.0</td>\n",
       "      <td>270.0</td>\n",
       "      <td>7/5/2019</td>\n",
       "      <td>4.64</td>\n",
       "      <td>4.0</td>\n",
       "      <td>1.0</td>\n",
       "      <td>322.0</td>\n",
       "      <td>NaN</td>\n",
       "      <td>NaN</td>\n",
       "    </tr>\n",
       "    <tr>\n",
       "      <th>4</th>\n",
       "      <td>1003689</td>\n",
       "      <td>Entire Apt: Spacious Studio/Loft by central park</td>\n",
       "      <td>92037596077</td>\n",
       "      <td>verified</td>\n",
       "      <td>Lyndon</td>\n",
       "      <td>Manhattan</td>\n",
       "      <td>East Harlem</td>\n",
       "      <td>40.79851</td>\n",
       "      <td>-73.94399</td>\n",
       "      <td>United States</td>\n",
       "      <td>...</td>\n",
       "      <td>$41</td>\n",
       "      <td>10.0</td>\n",
       "      <td>9.0</td>\n",
       "      <td>11/19/2018</td>\n",
       "      <td>0.10</td>\n",
       "      <td>3.0</td>\n",
       "      <td>1.0</td>\n",
       "      <td>289.0</td>\n",
       "      <td>Please no smoking in the house, porch or on th...</td>\n",
       "      <td>NaN</td>\n",
       "    </tr>\n",
       "    <tr>\n",
       "      <th>...</th>\n",
       "      <td>...</td>\n",
       "      <td>...</td>\n",
       "      <td>...</td>\n",
       "      <td>...</td>\n",
       "      <td>...</td>\n",
       "      <td>...</td>\n",
       "      <td>...</td>\n",
       "      <td>...</td>\n",
       "      <td>...</td>\n",
       "      <td>...</td>\n",
       "      <td>...</td>\n",
       "      <td>...</td>\n",
       "      <td>...</td>\n",
       "      <td>...</td>\n",
       "      <td>...</td>\n",
       "      <td>...</td>\n",
       "      <td>...</td>\n",
       "      <td>...</td>\n",
       "      <td>...</td>\n",
       "      <td>...</td>\n",
       "      <td>...</td>\n",
       "    </tr>\n",
       "    <tr>\n",
       "      <th>102594</th>\n",
       "      <td>6092437</td>\n",
       "      <td>Spare room in Williamsburg</td>\n",
       "      <td>12312296767</td>\n",
       "      <td>verified</td>\n",
       "      <td>Krik</td>\n",
       "      <td>Brooklyn</td>\n",
       "      <td>Williamsburg</td>\n",
       "      <td>40.70862</td>\n",
       "      <td>-73.94651</td>\n",
       "      <td>United States</td>\n",
       "      <td>...</td>\n",
       "      <td>$169</td>\n",
       "      <td>1.0</td>\n",
       "      <td>0.0</td>\n",
       "      <td>NaN</td>\n",
       "      <td>NaN</td>\n",
       "      <td>3.0</td>\n",
       "      <td>1.0</td>\n",
       "      <td>227.0</td>\n",
       "      <td>No Smoking No Parties or Events of any kind Pl...</td>\n",
       "      <td>NaN</td>\n",
       "    </tr>\n",
       "    <tr>\n",
       "      <th>102595</th>\n",
       "      <td>6092990</td>\n",
       "      <td>Best Location near Columbia U</td>\n",
       "      <td>77864383453</td>\n",
       "      <td>unconfirmed</td>\n",
       "      <td>Mifan</td>\n",
       "      <td>Manhattan</td>\n",
       "      <td>Morningside Heights</td>\n",
       "      <td>40.80460</td>\n",
       "      <td>-73.96545</td>\n",
       "      <td>United States</td>\n",
       "      <td>...</td>\n",
       "      <td>$167</td>\n",
       "      <td>1.0</td>\n",
       "      <td>1.0</td>\n",
       "      <td>7/6/2015</td>\n",
       "      <td>0.02</td>\n",
       "      <td>2.0</td>\n",
       "      <td>2.0</td>\n",
       "      <td>395.0</td>\n",
       "      <td>House rules: Guests agree to the following ter...</td>\n",
       "      <td>NaN</td>\n",
       "    </tr>\n",
       "    <tr>\n",
       "      <th>102596</th>\n",
       "      <td>6093542</td>\n",
       "      <td>Comfy, bright room in Brooklyn</td>\n",
       "      <td>69050334417</td>\n",
       "      <td>unconfirmed</td>\n",
       "      <td>Megan</td>\n",
       "      <td>Brooklyn</td>\n",
       "      <td>Park Slope</td>\n",
       "      <td>40.67505</td>\n",
       "      <td>-73.98045</td>\n",
       "      <td>United States</td>\n",
       "      <td>...</td>\n",
       "      <td>$198</td>\n",
       "      <td>3.0</td>\n",
       "      <td>0.0</td>\n",
       "      <td>NaN</td>\n",
       "      <td>NaN</td>\n",
       "      <td>5.0</td>\n",
       "      <td>1.0</td>\n",
       "      <td>342.0</td>\n",
       "      <td>NaN</td>\n",
       "      <td>NaN</td>\n",
       "    </tr>\n",
       "    <tr>\n",
       "      <th>102597</th>\n",
       "      <td>6094094</td>\n",
       "      <td>Big Studio-One Stop from Midtown</td>\n",
       "      <td>11160591270</td>\n",
       "      <td>unconfirmed</td>\n",
       "      <td>Christopher</td>\n",
       "      <td>Queens</td>\n",
       "      <td>Long Island City</td>\n",
       "      <td>40.74989</td>\n",
       "      <td>-73.93777</td>\n",
       "      <td>United States</td>\n",
       "      <td>...</td>\n",
       "      <td>$109</td>\n",
       "      <td>2.0</td>\n",
       "      <td>5.0</td>\n",
       "      <td>10/11/2015</td>\n",
       "      <td>0.10</td>\n",
       "      <td>3.0</td>\n",
       "      <td>1.0</td>\n",
       "      <td>386.0</td>\n",
       "      <td>NaN</td>\n",
       "      <td>NaN</td>\n",
       "    </tr>\n",
       "    <tr>\n",
       "      <th>102598</th>\n",
       "      <td>6094647</td>\n",
       "      <td>585 sf Luxury Studio</td>\n",
       "      <td>68170633372</td>\n",
       "      <td>unconfirmed</td>\n",
       "      <td>Rebecca</td>\n",
       "      <td>Manhattan</td>\n",
       "      <td>Upper West Side</td>\n",
       "      <td>40.76807</td>\n",
       "      <td>-73.98342</td>\n",
       "      <td>United States</td>\n",
       "      <td>...</td>\n",
       "      <td>$206</td>\n",
       "      <td>1.0</td>\n",
       "      <td>0.0</td>\n",
       "      <td>NaN</td>\n",
       "      <td>NaN</td>\n",
       "      <td>3.0</td>\n",
       "      <td>1.0</td>\n",
       "      <td>69.0</td>\n",
       "      <td>NaN</td>\n",
       "      <td>NaN</td>\n",
       "    </tr>\n",
       "  </tbody>\n",
       "</table>\n",
       "<p>102599 rows × 26 columns</p>\n",
       "</div>"
      ],
      "text/plain": [
       "             id                                              NAME  \\\n",
       "0       1001254                Clean & quiet apt home by the park   \n",
       "1       1002102                             Skylit Midtown Castle   \n",
       "2       1002403               THE VILLAGE OF HARLEM....NEW YORK !   \n",
       "3       1002755                                               NaN   \n",
       "4       1003689  Entire Apt: Spacious Studio/Loft by central park   \n",
       "...         ...                                               ...   \n",
       "102594  6092437                        Spare room in Williamsburg   \n",
       "102595  6092990                     Best Location near Columbia U   \n",
       "102596  6093542                    Comfy, bright room in Brooklyn   \n",
       "102597  6094094                  Big Studio-One Stop from Midtown   \n",
       "102598  6094647                              585 sf Luxury Studio   \n",
       "\n",
       "            host id host_identity_verified    host name neighbourhood group  \\\n",
       "0       80014485718            unconfirmed     Madaline            Brooklyn   \n",
       "1       52335172823               verified        Jenna           Manhattan   \n",
       "2       78829239556                    NaN        Elise           Manhattan   \n",
       "3       85098326012            unconfirmed        Garry            Brooklyn   \n",
       "4       92037596077               verified       Lyndon           Manhattan   \n",
       "...             ...                    ...          ...                 ...   \n",
       "102594  12312296767               verified         Krik            Brooklyn   \n",
       "102595  77864383453            unconfirmed        Mifan           Manhattan   \n",
       "102596  69050334417            unconfirmed        Megan            Brooklyn   \n",
       "102597  11160591270            unconfirmed  Christopher              Queens   \n",
       "102598  68170633372            unconfirmed      Rebecca           Manhattan   \n",
       "\n",
       "              neighbourhood       lat      long        country  ...  \\\n",
       "0                Kensington  40.64749 -73.97237  United States  ...   \n",
       "1                   Midtown  40.75362 -73.98377  United States  ...   \n",
       "2                    Harlem  40.80902 -73.94190  United States  ...   \n",
       "3              Clinton Hill  40.68514 -73.95976  United States  ...   \n",
       "4               East Harlem  40.79851 -73.94399  United States  ...   \n",
       "...                     ...       ...       ...            ...  ...   \n",
       "102594         Williamsburg  40.70862 -73.94651  United States  ...   \n",
       "102595  Morningside Heights  40.80460 -73.96545  United States  ...   \n",
       "102596           Park Slope  40.67505 -73.98045  United States  ...   \n",
       "102597     Long Island City  40.74989 -73.93777  United States  ...   \n",
       "102598      Upper West Side  40.76807 -73.98342  United States  ...   \n",
       "\n",
       "       service fee minimum nights number of reviews last review  \\\n",
       "0            $193            10.0               9.0  10/19/2021   \n",
       "1             $28            30.0              45.0   5/21/2022   \n",
       "2            $124             3.0               0.0         NaN   \n",
       "3             $74            30.0             270.0    7/5/2019   \n",
       "4             $41            10.0               9.0  11/19/2018   \n",
       "...            ...            ...               ...         ...   \n",
       "102594       $169             1.0               0.0         NaN   \n",
       "102595       $167             1.0               1.0    7/6/2015   \n",
       "102596       $198             3.0               0.0         NaN   \n",
       "102597       $109             2.0               5.0  10/11/2015   \n",
       "102598       $206             1.0               0.0         NaN   \n",
       "\n",
       "        reviews per month review rate number calculated host listings count  \\\n",
       "0                    0.21                4.0                            6.0   \n",
       "1                    0.38                4.0                            2.0   \n",
       "2                     NaN                5.0                            1.0   \n",
       "3                    4.64                4.0                            1.0   \n",
       "4                    0.10                3.0                            1.0   \n",
       "...                   ...                ...                            ...   \n",
       "102594                NaN                3.0                            1.0   \n",
       "102595               0.02                2.0                            2.0   \n",
       "102596                NaN                5.0                            1.0   \n",
       "102597               0.10                3.0                            1.0   \n",
       "102598                NaN                3.0                            1.0   \n",
       "\n",
       "        availability 365                                        house_rules  \\\n",
       "0                  286.0  Clean up and treat the home the way you'd like...   \n",
       "1                  228.0  Pet friendly but please confirm with me if the...   \n",
       "2                  352.0  I encourage you to use my kitchen, cooking and...   \n",
       "3                  322.0                                                NaN   \n",
       "4                  289.0  Please no smoking in the house, porch or on th...   \n",
       "...                  ...                                                ...   \n",
       "102594             227.0  No Smoking No Parties or Events of any kind Pl...   \n",
       "102595             395.0  House rules: Guests agree to the following ter...   \n",
       "102596             342.0                                                NaN   \n",
       "102597             386.0                                                NaN   \n",
       "102598              69.0                                                NaN   \n",
       "\n",
       "       license  \n",
       "0          NaN  \n",
       "1          NaN  \n",
       "2          NaN  \n",
       "3          NaN  \n",
       "4          NaN  \n",
       "...        ...  \n",
       "102594     NaN  \n",
       "102595     NaN  \n",
       "102596     NaN  \n",
       "102597     NaN  \n",
       "102598     NaN  \n",
       "\n",
       "[102599 rows x 26 columns]"
      ]
     },
     "execution_count": 2,
     "metadata": {},
     "output_type": "execute_result"
    }
   ],
   "source": [
    "df = pd.read_csv(\"Airbnb_Open_Data.csv\")\n",
    "df"
   ]
  },
  {
   "cell_type": "markdown",
   "id": "79e01197",
   "metadata": {},
   "source": [
    "# EDA"
   ]
  },
  {
   "cell_type": "code",
   "execution_count": 3,
   "id": "6c7383e8",
   "metadata": {},
   "outputs": [
    {
     "name": "stdout",
     "output_type": "stream",
     "text": [
      "<class 'pandas.core.frame.DataFrame'>\n",
      "RangeIndex: 102599 entries, 0 to 102598\n",
      "Data columns (total 26 columns):\n",
      " #   Column                          Non-Null Count   Dtype  \n",
      "---  ------                          --------------   -----  \n",
      " 0   id                              102599 non-null  int64  \n",
      " 1   NAME                            102349 non-null  object \n",
      " 2   host id                         102599 non-null  int64  \n",
      " 3   host_identity_verified          102310 non-null  object \n",
      " 4   host name                       102193 non-null  object \n",
      " 5   neighbourhood group             102570 non-null  object \n",
      " 6   neighbourhood                   102583 non-null  object \n",
      " 7   lat                             102591 non-null  float64\n",
      " 8   long                            102591 non-null  float64\n",
      " 9   country                         102067 non-null  object \n",
      " 10  country code                    102468 non-null  object \n",
      " 11  instant_bookable                102494 non-null  object \n",
      " 12  cancellation_policy             102523 non-null  object \n",
      " 13  room type                       102599 non-null  object \n",
      " 14  Construction year               102385 non-null  float64\n",
      " 15  price                           102352 non-null  object \n",
      " 16  service fee                     102326 non-null  object \n",
      " 17  minimum nights                  102190 non-null  float64\n",
      " 18  number of reviews               102416 non-null  float64\n",
      " 19  last review                     86706 non-null   object \n",
      " 20  reviews per month               86720 non-null   float64\n",
      " 21  review rate number              102273 non-null  float64\n",
      " 22  calculated host listings count  102280 non-null  float64\n",
      " 23  availability 365                102151 non-null  float64\n",
      " 24  house_rules                     50468 non-null   object \n",
      " 25  license                         2 non-null       object \n",
      "dtypes: float64(9), int64(2), object(15)\n",
      "memory usage: 20.4+ MB\n"
     ]
    }
   ],
   "source": [
    "df.info()"
   ]
  },
  {
   "cell_type": "markdown",
   "id": "8d5bd434",
   "metadata": {},
   "source": [
    "Drop unnecesary columns"
   ]
  },
  {
   "cell_type": "code",
   "execution_count": 4,
   "id": "b43f36c5",
   "metadata": {},
   "outputs": [],
   "source": [
    "df = df.drop(columns=['license', 'id', 'host name', 'NAME', 'house_rules'])"
   ]
  },
  {
   "cell_type": "code",
   "execution_count": 5,
   "id": "6a675820",
   "metadata": {},
   "outputs": [
    {
     "name": "stdout",
     "output_type": "stream",
     "text": [
      "<class 'pandas.core.frame.DataFrame'>\n",
      "RangeIndex: 102599 entries, 0 to 102598\n",
      "Data columns (total 21 columns):\n",
      " #   Column                          Non-Null Count   Dtype  \n",
      "---  ------                          --------------   -----  \n",
      " 0   host id                         102599 non-null  int64  \n",
      " 1   host_identity_verified          102310 non-null  object \n",
      " 2   neighbourhood group             102570 non-null  object \n",
      " 3   neighbourhood                   102583 non-null  object \n",
      " 4   lat                             102591 non-null  float64\n",
      " 5   long                            102591 non-null  float64\n",
      " 6   country                         102067 non-null  object \n",
      " 7   country code                    102468 non-null  object \n",
      " 8   instant_bookable                102494 non-null  object \n",
      " 9   cancellation_policy             102523 non-null  object \n",
      " 10  room type                       102599 non-null  object \n",
      " 11  Construction year               102385 non-null  float64\n",
      " 12  price                           102352 non-null  object \n",
      " 13  service fee                     102326 non-null  object \n",
      " 14  minimum nights                  102190 non-null  float64\n",
      " 15  number of reviews               102416 non-null  float64\n",
      " 16  last review                     86706 non-null   object \n",
      " 17  reviews per month               86720 non-null   float64\n",
      " 18  review rate number              102273 non-null  float64\n",
      " 19  calculated host listings count  102280 non-null  float64\n",
      " 20  availability 365                102151 non-null  float64\n",
      "dtypes: float64(9), int64(1), object(11)\n",
      "memory usage: 16.4+ MB\n"
     ]
    }
   ],
   "source": [
    "df.info()"
   ]
  },
  {
   "cell_type": "code",
   "execution_count": 6,
   "id": "cd84b023",
   "metadata": {},
   "outputs": [
    {
     "data": {
      "text/html": [
       "<div>\n",
       "<style scoped>\n",
       "    .dataframe tbody tr th:only-of-type {\n",
       "        vertical-align: middle;\n",
       "    }\n",
       "\n",
       "    .dataframe tbody tr th {\n",
       "        vertical-align: top;\n",
       "    }\n",
       "\n",
       "    .dataframe thead th {\n",
       "        text-align: right;\n",
       "    }\n",
       "</style>\n",
       "<table border=\"1\" class=\"dataframe\">\n",
       "  <thead>\n",
       "    <tr style=\"text-align: right;\">\n",
       "      <th></th>\n",
       "      <th>host id</th>\n",
       "      <th>lat</th>\n",
       "      <th>long</th>\n",
       "      <th>Construction year</th>\n",
       "      <th>minimum nights</th>\n",
       "      <th>number of reviews</th>\n",
       "      <th>reviews per month</th>\n",
       "      <th>review rate number</th>\n",
       "      <th>calculated host listings count</th>\n",
       "      <th>availability 365</th>\n",
       "    </tr>\n",
       "  </thead>\n",
       "  <tbody>\n",
       "    <tr>\n",
       "      <th>count</th>\n",
       "      <td>1.025990e+05</td>\n",
       "      <td>102591.000000</td>\n",
       "      <td>102591.000000</td>\n",
       "      <td>102385.000000</td>\n",
       "      <td>102190.000000</td>\n",
       "      <td>102416.000000</td>\n",
       "      <td>86720.000000</td>\n",
       "      <td>102273.000000</td>\n",
       "      <td>102280.000000</td>\n",
       "      <td>102151.000000</td>\n",
       "    </tr>\n",
       "    <tr>\n",
       "      <th>mean</th>\n",
       "      <td>4.925411e+10</td>\n",
       "      <td>40.728094</td>\n",
       "      <td>-73.949644</td>\n",
       "      <td>2012.487464</td>\n",
       "      <td>8.135845</td>\n",
       "      <td>27.483743</td>\n",
       "      <td>1.374022</td>\n",
       "      <td>3.279106</td>\n",
       "      <td>7.936605</td>\n",
       "      <td>141.133254</td>\n",
       "    </tr>\n",
       "    <tr>\n",
       "      <th>std</th>\n",
       "      <td>2.853900e+10</td>\n",
       "      <td>0.055857</td>\n",
       "      <td>0.049521</td>\n",
       "      <td>5.765556</td>\n",
       "      <td>30.553781</td>\n",
       "      <td>49.508954</td>\n",
       "      <td>1.746621</td>\n",
       "      <td>1.284657</td>\n",
       "      <td>32.218780</td>\n",
       "      <td>135.435024</td>\n",
       "    </tr>\n",
       "    <tr>\n",
       "      <th>min</th>\n",
       "      <td>1.236005e+08</td>\n",
       "      <td>40.499790</td>\n",
       "      <td>-74.249840</td>\n",
       "      <td>2003.000000</td>\n",
       "      <td>-1223.000000</td>\n",
       "      <td>0.000000</td>\n",
       "      <td>0.010000</td>\n",
       "      <td>1.000000</td>\n",
       "      <td>1.000000</td>\n",
       "      <td>-10.000000</td>\n",
       "    </tr>\n",
       "    <tr>\n",
       "      <th>25%</th>\n",
       "      <td>2.458333e+10</td>\n",
       "      <td>40.688740</td>\n",
       "      <td>-73.982580</td>\n",
       "      <td>2007.000000</td>\n",
       "      <td>2.000000</td>\n",
       "      <td>1.000000</td>\n",
       "      <td>0.220000</td>\n",
       "      <td>2.000000</td>\n",
       "      <td>1.000000</td>\n",
       "      <td>3.000000</td>\n",
       "    </tr>\n",
       "    <tr>\n",
       "      <th>50%</th>\n",
       "      <td>4.911774e+10</td>\n",
       "      <td>40.722290</td>\n",
       "      <td>-73.954440</td>\n",
       "      <td>2012.000000</td>\n",
       "      <td>3.000000</td>\n",
       "      <td>7.000000</td>\n",
       "      <td>0.740000</td>\n",
       "      <td>3.000000</td>\n",
       "      <td>1.000000</td>\n",
       "      <td>96.000000</td>\n",
       "    </tr>\n",
       "    <tr>\n",
       "      <th>75%</th>\n",
       "      <td>7.399650e+10</td>\n",
       "      <td>40.762760</td>\n",
       "      <td>-73.932350</td>\n",
       "      <td>2017.000000</td>\n",
       "      <td>5.000000</td>\n",
       "      <td>30.000000</td>\n",
       "      <td>2.000000</td>\n",
       "      <td>4.000000</td>\n",
       "      <td>2.000000</td>\n",
       "      <td>269.000000</td>\n",
       "    </tr>\n",
       "    <tr>\n",
       "      <th>max</th>\n",
       "      <td>9.876313e+10</td>\n",
       "      <td>40.916970</td>\n",
       "      <td>-73.705220</td>\n",
       "      <td>2022.000000</td>\n",
       "      <td>5645.000000</td>\n",
       "      <td>1024.000000</td>\n",
       "      <td>90.000000</td>\n",
       "      <td>5.000000</td>\n",
       "      <td>332.000000</td>\n",
       "      <td>3677.000000</td>\n",
       "    </tr>\n",
       "  </tbody>\n",
       "</table>\n",
       "</div>"
      ],
      "text/plain": [
       "            host id            lat           long  Construction year  \\\n",
       "count  1.025990e+05  102591.000000  102591.000000      102385.000000   \n",
       "mean   4.925411e+10      40.728094     -73.949644        2012.487464   \n",
       "std    2.853900e+10       0.055857       0.049521           5.765556   \n",
       "min    1.236005e+08      40.499790     -74.249840        2003.000000   \n",
       "25%    2.458333e+10      40.688740     -73.982580        2007.000000   \n",
       "50%    4.911774e+10      40.722290     -73.954440        2012.000000   \n",
       "75%    7.399650e+10      40.762760     -73.932350        2017.000000   \n",
       "max    9.876313e+10      40.916970     -73.705220        2022.000000   \n",
       "\n",
       "       minimum nights  number of reviews  reviews per month  \\\n",
       "count   102190.000000      102416.000000       86720.000000   \n",
       "mean         8.135845          27.483743           1.374022   \n",
       "std         30.553781          49.508954           1.746621   \n",
       "min      -1223.000000           0.000000           0.010000   \n",
       "25%          2.000000           1.000000           0.220000   \n",
       "50%          3.000000           7.000000           0.740000   \n",
       "75%          5.000000          30.000000           2.000000   \n",
       "max       5645.000000        1024.000000          90.000000   \n",
       "\n",
       "       review rate number  calculated host listings count  availability 365  \n",
       "count       102273.000000                   102280.000000     102151.000000  \n",
       "mean             3.279106                        7.936605        141.133254  \n",
       "std              1.284657                       32.218780        135.435024  \n",
       "min              1.000000                        1.000000        -10.000000  \n",
       "25%              2.000000                        1.000000          3.000000  \n",
       "50%              3.000000                        1.000000         96.000000  \n",
       "75%              4.000000                        2.000000        269.000000  \n",
       "max              5.000000                      332.000000       3677.000000  "
      ]
     },
     "execution_count": 6,
     "metadata": {},
     "output_type": "execute_result"
    }
   ],
   "source": [
    "df.describe()"
   ]
  },
  {
   "cell_type": "code",
   "execution_count": 7,
   "id": "154ac363",
   "metadata": {},
   "outputs": [
    {
     "data": {
      "text/plain": [
       "Index(['host id', 'host_identity_verified', 'neighbourhood group',\n",
       "       'neighbourhood', 'lat', 'long', 'country', 'country code',\n",
       "       'instant_bookable', 'cancellation_policy', 'room type',\n",
       "       'Construction year', 'price', 'service fee', 'minimum nights',\n",
       "       'number of reviews', 'last review', 'reviews per month',\n",
       "       'review rate number', 'calculated host listings count',\n",
       "       'availability 365'],\n",
       "      dtype='object')"
      ]
     },
     "execution_count": 7,
     "metadata": {},
     "output_type": "execute_result"
    }
   ],
   "source": [
    "df.columns"
   ]
  },
  {
   "cell_type": "code",
   "execution_count": 8,
   "id": "c5d3637a",
   "metadata": {},
   "outputs": [
    {
     "data": {
      "text/plain": [
       "(102599, 21)"
      ]
     },
     "execution_count": 8,
     "metadata": {},
     "output_type": "execute_result"
    }
   ],
   "source": [
    "df.shape"
   ]
  },
  {
   "cell_type": "code",
   "execution_count": 9,
   "id": "4413f777",
   "metadata": {},
   "outputs": [
    {
     "data": {
      "text/plain": [
       "host id                           102057\n",
       "host_identity_verified                 2\n",
       "neighbourhood group                    7\n",
       "neighbourhood                        224\n",
       "lat                                21991\n",
       "long                               17774\n",
       "country                                1\n",
       "country code                           1\n",
       "instant_bookable                       2\n",
       "cancellation_policy                    3\n",
       "room type                              4\n",
       "Construction year                     20\n",
       "price                               1151\n",
       "service fee                          231\n",
       "minimum nights                       153\n",
       "number of reviews                    476\n",
       "last review                         2477\n",
       "reviews per month                   1016\n",
       "review rate number                     5\n",
       "calculated host listings count        78\n",
       "availability 365                     438\n",
       "dtype: int64"
      ]
     },
     "execution_count": 9,
     "metadata": {},
     "output_type": "execute_result"
    }
   ],
   "source": [
    "df.nunique(axis=0)"
   ]
  },
  {
   "cell_type": "markdown",
   "id": "8f6c95ca",
   "metadata": {},
   "source": [
    "# Cleaning data"
   ]
  },
  {
   "cell_type": "code",
   "execution_count": 10,
   "id": "af376943",
   "metadata": {},
   "outputs": [
    {
     "data": {
      "text/plain": [
       "last review                       15.490\n",
       "reviews per month                 15.477\n",
       "country                            0.519\n",
       "availability 365                   0.437\n",
       "minimum nights                     0.399\n",
       "review rate number                 0.318\n",
       "calculated host listings count     0.311\n",
       "host_identity_verified             0.282\n",
       "service fee                        0.266\n",
       "price                              0.241\n",
       "Construction year                  0.209\n",
       "number of reviews                  0.178\n",
       "country code                       0.128\n",
       "instant_bookable                   0.102\n",
       "cancellation_policy                0.074\n",
       "neighbourhood group                0.028\n",
       "neighbourhood                      0.016\n",
       "long                               0.008\n",
       "lat                                0.008\n",
       "host id                            0.000\n",
       "room type                          0.000\n",
       "dtype: float64"
      ]
     },
     "execution_count": 10,
     "metadata": {},
     "output_type": "execute_result"
    }
   ],
   "source": [
    "round(df.isna().sum().sort_values(ascending=False)/len(df)*100,3)"
   ]
  },
  {
   "cell_type": "code",
   "execution_count": 13,
   "id": "178d0aff",
   "metadata": {},
   "outputs": [
    {
     "data": {
      "text/plain": [
       "0         10/19/2021\n",
       "1          5/21/2022\n",
       "2                NaN\n",
       "3           7/5/2019\n",
       "4         11/19/2018\n",
       "             ...    \n",
       "102594           NaN\n",
       "102595      7/6/2015\n",
       "102596           NaN\n",
       "102597    10/11/2015\n",
       "102598           NaN\n",
       "Name: last review, Length: 102599, dtype: object"
      ]
     },
     "execution_count": 13,
     "metadata": {},
     "output_type": "execute_result"
    }
   ],
   "source": [
    "df['last review']"
   ]
  },
  {
   "cell_type": "markdown",
   "id": "b5968678",
   "metadata": {},
   "source": [
    "Since \"Last review\" are dates, and listings without a review will not have a review, we can remove this column and instead focus on reviews per month"
   ]
  },
  {
   "cell_type": "code",
   "execution_count": 15,
   "id": "5080fc55",
   "metadata": {},
   "outputs": [],
   "source": [
    "df.drop(columns='last review', inplace=True)"
   ]
  },
  {
   "cell_type": "code",
   "execution_count": 16,
   "id": "c47fa016",
   "metadata": {},
   "outputs": [
    {
     "data": {
      "text/plain": [
       "Index(['host id', 'host_identity_verified', 'neighbourhood group',\n",
       "       'neighbourhood', 'lat', 'long', 'country', 'country code',\n",
       "       'instant_bookable', 'cancellation_policy', 'room type',\n",
       "       'Construction year', 'price', 'service fee', 'minimum nights',\n",
       "       'number of reviews', 'reviews per month', 'review rate number',\n",
       "       'calculated host listings count', 'availability 365'],\n",
       "      dtype='object')"
      ]
     },
     "execution_count": 16,
     "metadata": {},
     "output_type": "execute_result"
    }
   ],
   "source": [
    "df.columns"
   ]
  },
  {
   "cell_type": "markdown",
   "id": "fe636300",
   "metadata": {},
   "source": [
    "### Last review notes"
   ]
  },
  {
   "cell_type": "code",
   "execution_count": 11,
   "id": "a35222a3",
   "metadata": {},
   "outputs": [],
   "source": [
    "reviews = pd.DataFrame(df[\"last review\"])"
   ]
  },
  {
   "cell_type": "code",
   "execution_count": 12,
   "id": "eba8b132",
   "metadata": {},
   "outputs": [],
   "source": [
    "reviews[\"number_of_reviews\"] = df[\"number of reviews\"]"
   ]
  },
  {
   "cell_type": "code",
   "execution_count": 13,
   "id": "ef44db42",
   "metadata": {},
   "outputs": [
    {
     "data": {
      "text/html": [
       "<div>\n",
       "<style scoped>\n",
       "    .dataframe tbody tr th:only-of-type {\n",
       "        vertical-align: middle;\n",
       "    }\n",
       "\n",
       "    .dataframe tbody tr th {\n",
       "        vertical-align: top;\n",
       "    }\n",
       "\n",
       "    .dataframe thead th {\n",
       "        text-align: right;\n",
       "    }\n",
       "</style>\n",
       "<table border=\"1\" class=\"dataframe\">\n",
       "  <thead>\n",
       "    <tr style=\"text-align: right;\">\n",
       "      <th></th>\n",
       "      <th>last review</th>\n",
       "      <th>number_of_reviews</th>\n",
       "    </tr>\n",
       "  </thead>\n",
       "  <tbody>\n",
       "    <tr>\n",
       "      <th>2</th>\n",
       "      <td>NaN</td>\n",
       "      <td>0.0</td>\n",
       "    </tr>\n",
       "    <tr>\n",
       "      <th>20</th>\n",
       "      <td>NaN</td>\n",
       "      <td>0.0</td>\n",
       "    </tr>\n",
       "    <tr>\n",
       "      <th>27</th>\n",
       "      <td>NaN</td>\n",
       "      <td>0.0</td>\n",
       "    </tr>\n",
       "    <tr>\n",
       "      <th>37</th>\n",
       "      <td>NaN</td>\n",
       "      <td>0.0</td>\n",
       "    </tr>\n",
       "    <tr>\n",
       "      <th>39</th>\n",
       "      <td>NaN</td>\n",
       "      <td>0.0</td>\n",
       "    </tr>\n",
       "    <tr>\n",
       "      <th>...</th>\n",
       "      <td>...</td>\n",
       "      <td>...</td>\n",
       "    </tr>\n",
       "    <tr>\n",
       "      <th>102590</th>\n",
       "      <td>NaN</td>\n",
       "      <td>0.0</td>\n",
       "    </tr>\n",
       "    <tr>\n",
       "      <th>102592</th>\n",
       "      <td>NaN</td>\n",
       "      <td>0.0</td>\n",
       "    </tr>\n",
       "    <tr>\n",
       "      <th>102594</th>\n",
       "      <td>NaN</td>\n",
       "      <td>0.0</td>\n",
       "    </tr>\n",
       "    <tr>\n",
       "      <th>102596</th>\n",
       "      <td>NaN</td>\n",
       "      <td>0.0</td>\n",
       "    </tr>\n",
       "    <tr>\n",
       "      <th>102598</th>\n",
       "      <td>NaN</td>\n",
       "      <td>0.0</td>\n",
       "    </tr>\n",
       "  </tbody>\n",
       "</table>\n",
       "<p>15734 rows × 2 columns</p>\n",
       "</div>"
      ],
      "text/plain": [
       "       last review  number_of_reviews\n",
       "2              NaN                0.0\n",
       "20             NaN                0.0\n",
       "27             NaN                0.0\n",
       "37             NaN                0.0\n",
       "39             NaN                0.0\n",
       "...            ...                ...\n",
       "102590         NaN                0.0\n",
       "102592         NaN                0.0\n",
       "102594         NaN                0.0\n",
       "102596         NaN                0.0\n",
       "102598         NaN                0.0\n",
       "\n",
       "[15734 rows x 2 columns]"
      ]
     },
     "execution_count": 13,
     "metadata": {},
     "output_type": "execute_result"
    }
   ],
   "source": [
    "reviews[reviews[\"number_of_reviews\"] == 0]"
   ]
  },
  {
   "cell_type": "code",
   "execution_count": 14,
   "id": "a9721603",
   "metadata": {},
   "outputs": [
    {
     "data": {
      "text/html": [
       "<div>\n",
       "<style scoped>\n",
       "    .dataframe tbody tr th:only-of-type {\n",
       "        vertical-align: middle;\n",
       "    }\n",
       "\n",
       "    .dataframe tbody tr th {\n",
       "        vertical-align: top;\n",
       "    }\n",
       "\n",
       "    .dataframe thead th {\n",
       "        text-align: right;\n",
       "    }\n",
       "</style>\n",
       "<table border=\"1\" class=\"dataframe\">\n",
       "  <thead>\n",
       "    <tr style=\"text-align: right;\">\n",
       "      <th></th>\n",
       "      <th>last review</th>\n",
       "      <th>number_of_reviews</th>\n",
       "    </tr>\n",
       "  </thead>\n",
       "  <tbody>\n",
       "    <tr>\n",
       "      <th>0</th>\n",
       "      <td>10/19/2021</td>\n",
       "      <td>9.0</td>\n",
       "    </tr>\n",
       "    <tr>\n",
       "      <th>1</th>\n",
       "      <td>5/21/2022</td>\n",
       "      <td>45.0</td>\n",
       "    </tr>\n",
       "    <tr>\n",
       "      <th>2</th>\n",
       "      <td>NaN</td>\n",
       "      <td>0.0</td>\n",
       "    </tr>\n",
       "    <tr>\n",
       "      <th>3</th>\n",
       "      <td>7/5/2019</td>\n",
       "      <td>270.0</td>\n",
       "    </tr>\n",
       "    <tr>\n",
       "      <th>4</th>\n",
       "      <td>11/19/2018</td>\n",
       "      <td>9.0</td>\n",
       "    </tr>\n",
       "    <tr>\n",
       "      <th>...</th>\n",
       "      <td>...</td>\n",
       "      <td>...</td>\n",
       "    </tr>\n",
       "    <tr>\n",
       "      <th>102594</th>\n",
       "      <td>NaN</td>\n",
       "      <td>0.0</td>\n",
       "    </tr>\n",
       "    <tr>\n",
       "      <th>102595</th>\n",
       "      <td>7/6/2015</td>\n",
       "      <td>1.0</td>\n",
       "    </tr>\n",
       "    <tr>\n",
       "      <th>102596</th>\n",
       "      <td>NaN</td>\n",
       "      <td>0.0</td>\n",
       "    </tr>\n",
       "    <tr>\n",
       "      <th>102597</th>\n",
       "      <td>10/11/2015</td>\n",
       "      <td>5.0</td>\n",
       "    </tr>\n",
       "    <tr>\n",
       "      <th>102598</th>\n",
       "      <td>NaN</td>\n",
       "      <td>0.0</td>\n",
       "    </tr>\n",
       "  </tbody>\n",
       "</table>\n",
       "<p>102599 rows × 2 columns</p>\n",
       "</div>"
      ],
      "text/plain": [
       "       last review  number_of_reviews\n",
       "0       10/19/2021                9.0\n",
       "1        5/21/2022               45.0\n",
       "2              NaN                0.0\n",
       "3         7/5/2019              270.0\n",
       "4       11/19/2018                9.0\n",
       "...            ...                ...\n",
       "102594         NaN                0.0\n",
       "102595    7/6/2015                1.0\n",
       "102596         NaN                0.0\n",
       "102597  10/11/2015                5.0\n",
       "102598         NaN                0.0\n",
       "\n",
       "[102599 rows x 2 columns]"
      ]
     },
     "execution_count": 14,
     "metadata": {},
     "output_type": "execute_result"
    }
   ],
   "source": [
    "reviews"
   ]
  },
  {
   "cell_type": "markdown",
   "id": "43efc788",
   "metadata": {},
   "source": [
    "###  Column: Country"
   ]
  },
  {
   "cell_type": "code",
   "execution_count": 15,
   "id": "502e10a8",
   "metadata": {},
   "outputs": [
    {
     "data": {
      "text/plain": [
       "(102599, 21)"
      ]
     },
     "execution_count": 15,
     "metadata": {},
     "output_type": "execute_result"
    }
   ],
   "source": [
    "df.shape"
   ]
  },
  {
   "cell_type": "code",
   "execution_count": 16,
   "id": "26941f3c",
   "metadata": {},
   "outputs": [
    {
     "data": {
      "text/plain": [
       "array(['United States', nan], dtype=object)"
      ]
     },
     "execution_count": 16,
     "metadata": {},
     "output_type": "execute_result"
    }
   ],
   "source": [
    "df.country.unique()"
   ]
  },
  {
   "cell_type": "code",
   "execution_count": 17,
   "id": "ffa3d47b",
   "metadata": {},
   "outputs": [
    {
     "data": {
      "text/plain": [
       "532"
      ]
     },
     "execution_count": 17,
     "metadata": {},
     "output_type": "execute_result"
    }
   ],
   "source": [
    "df.country.isnull().sum()"
   ]
  },
  {
   "cell_type": "code",
   "execution_count": 18,
   "id": "ccec6278",
   "metadata": {},
   "outputs": [
    {
     "data": {
      "text/html": [
       "<div>\n",
       "<style scoped>\n",
       "    .dataframe tbody tr th:only-of-type {\n",
       "        vertical-align: middle;\n",
       "    }\n",
       "\n",
       "    .dataframe tbody tr th {\n",
       "        vertical-align: top;\n",
       "    }\n",
       "\n",
       "    .dataframe thead th {\n",
       "        text-align: right;\n",
       "    }\n",
       "</style>\n",
       "<table border=\"1\" class=\"dataframe\">\n",
       "  <thead>\n",
       "    <tr style=\"text-align: right;\">\n",
       "      <th></th>\n",
       "      <th>host id</th>\n",
       "      <th>host_identity_verified</th>\n",
       "      <th>neighbourhood group</th>\n",
       "      <th>neighbourhood</th>\n",
       "      <th>lat</th>\n",
       "      <th>long</th>\n",
       "      <th>country</th>\n",
       "      <th>country code</th>\n",
       "      <th>instant_bookable</th>\n",
       "      <th>cancellation_policy</th>\n",
       "      <th>...</th>\n",
       "      <th>Construction year</th>\n",
       "      <th>price</th>\n",
       "      <th>service fee</th>\n",
       "      <th>minimum nights</th>\n",
       "      <th>number of reviews</th>\n",
       "      <th>last review</th>\n",
       "      <th>reviews per month</th>\n",
       "      <th>review rate number</th>\n",
       "      <th>calculated host listings count</th>\n",
       "      <th>availability 365</th>\n",
       "    </tr>\n",
       "  </thead>\n",
       "  <tbody>\n",
       "    <tr>\n",
       "      <th>0</th>\n",
       "      <td>80014485718</td>\n",
       "      <td>unconfirmed</td>\n",
       "      <td>Brooklyn</td>\n",
       "      <td>Kensington</td>\n",
       "      <td>40.64749</td>\n",
       "      <td>-73.97237</td>\n",
       "      <td>United States</td>\n",
       "      <td>US</td>\n",
       "      <td>False</td>\n",
       "      <td>strict</td>\n",
       "      <td>...</td>\n",
       "      <td>2020.0</td>\n",
       "      <td>$966</td>\n",
       "      <td>$193</td>\n",
       "      <td>10.0</td>\n",
       "      <td>9.0</td>\n",
       "      <td>10/19/2021</td>\n",
       "      <td>0.21</td>\n",
       "      <td>4.0</td>\n",
       "      <td>6.0</td>\n",
       "      <td>286.0</td>\n",
       "    </tr>\n",
       "    <tr>\n",
       "      <th>1</th>\n",
       "      <td>52335172823</td>\n",
       "      <td>verified</td>\n",
       "      <td>Manhattan</td>\n",
       "      <td>Midtown</td>\n",
       "      <td>40.75362</td>\n",
       "      <td>-73.98377</td>\n",
       "      <td>United States</td>\n",
       "      <td>US</td>\n",
       "      <td>False</td>\n",
       "      <td>moderate</td>\n",
       "      <td>...</td>\n",
       "      <td>2007.0</td>\n",
       "      <td>$142</td>\n",
       "      <td>$28</td>\n",
       "      <td>30.0</td>\n",
       "      <td>45.0</td>\n",
       "      <td>5/21/2022</td>\n",
       "      <td>0.38</td>\n",
       "      <td>4.0</td>\n",
       "      <td>2.0</td>\n",
       "      <td>228.0</td>\n",
       "    </tr>\n",
       "    <tr>\n",
       "      <th>2</th>\n",
       "      <td>78829239556</td>\n",
       "      <td>NaN</td>\n",
       "      <td>Manhattan</td>\n",
       "      <td>Harlem</td>\n",
       "      <td>40.80902</td>\n",
       "      <td>-73.94190</td>\n",
       "      <td>United States</td>\n",
       "      <td>US</td>\n",
       "      <td>True</td>\n",
       "      <td>flexible</td>\n",
       "      <td>...</td>\n",
       "      <td>2005.0</td>\n",
       "      <td>$620</td>\n",
       "      <td>$124</td>\n",
       "      <td>3.0</td>\n",
       "      <td>0.0</td>\n",
       "      <td>NaN</td>\n",
       "      <td>NaN</td>\n",
       "      <td>5.0</td>\n",
       "      <td>1.0</td>\n",
       "      <td>352.0</td>\n",
       "    </tr>\n",
       "    <tr>\n",
       "      <th>3</th>\n",
       "      <td>85098326012</td>\n",
       "      <td>unconfirmed</td>\n",
       "      <td>Brooklyn</td>\n",
       "      <td>Clinton Hill</td>\n",
       "      <td>40.68514</td>\n",
       "      <td>-73.95976</td>\n",
       "      <td>United States</td>\n",
       "      <td>US</td>\n",
       "      <td>True</td>\n",
       "      <td>moderate</td>\n",
       "      <td>...</td>\n",
       "      <td>2005.0</td>\n",
       "      <td>$368</td>\n",
       "      <td>$74</td>\n",
       "      <td>30.0</td>\n",
       "      <td>270.0</td>\n",
       "      <td>7/5/2019</td>\n",
       "      <td>4.64</td>\n",
       "      <td>4.0</td>\n",
       "      <td>1.0</td>\n",
       "      <td>322.0</td>\n",
       "    </tr>\n",
       "    <tr>\n",
       "      <th>4</th>\n",
       "      <td>92037596077</td>\n",
       "      <td>verified</td>\n",
       "      <td>Manhattan</td>\n",
       "      <td>East Harlem</td>\n",
       "      <td>40.79851</td>\n",
       "      <td>-73.94399</td>\n",
       "      <td>United States</td>\n",
       "      <td>US</td>\n",
       "      <td>False</td>\n",
       "      <td>moderate</td>\n",
       "      <td>...</td>\n",
       "      <td>2009.0</td>\n",
       "      <td>$204</td>\n",
       "      <td>$41</td>\n",
       "      <td>10.0</td>\n",
       "      <td>9.0</td>\n",
       "      <td>11/19/2018</td>\n",
       "      <td>0.10</td>\n",
       "      <td>3.0</td>\n",
       "      <td>1.0</td>\n",
       "      <td>289.0</td>\n",
       "    </tr>\n",
       "    <tr>\n",
       "      <th>...</th>\n",
       "      <td>...</td>\n",
       "      <td>...</td>\n",
       "      <td>...</td>\n",
       "      <td>...</td>\n",
       "      <td>...</td>\n",
       "      <td>...</td>\n",
       "      <td>...</td>\n",
       "      <td>...</td>\n",
       "      <td>...</td>\n",
       "      <td>...</td>\n",
       "      <td>...</td>\n",
       "      <td>...</td>\n",
       "      <td>...</td>\n",
       "      <td>...</td>\n",
       "      <td>...</td>\n",
       "      <td>...</td>\n",
       "      <td>...</td>\n",
       "      <td>...</td>\n",
       "      <td>...</td>\n",
       "      <td>...</td>\n",
       "      <td>...</td>\n",
       "    </tr>\n",
       "    <tr>\n",
       "      <th>102594</th>\n",
       "      <td>12312296767</td>\n",
       "      <td>verified</td>\n",
       "      <td>Brooklyn</td>\n",
       "      <td>Williamsburg</td>\n",
       "      <td>40.70862</td>\n",
       "      <td>-73.94651</td>\n",
       "      <td>United States</td>\n",
       "      <td>US</td>\n",
       "      <td>False</td>\n",
       "      <td>flexible</td>\n",
       "      <td>...</td>\n",
       "      <td>2003.0</td>\n",
       "      <td>$844</td>\n",
       "      <td>$169</td>\n",
       "      <td>1.0</td>\n",
       "      <td>0.0</td>\n",
       "      <td>NaN</td>\n",
       "      <td>NaN</td>\n",
       "      <td>3.0</td>\n",
       "      <td>1.0</td>\n",
       "      <td>227.0</td>\n",
       "    </tr>\n",
       "    <tr>\n",
       "      <th>102595</th>\n",
       "      <td>77864383453</td>\n",
       "      <td>unconfirmed</td>\n",
       "      <td>Manhattan</td>\n",
       "      <td>Morningside Heights</td>\n",
       "      <td>40.80460</td>\n",
       "      <td>-73.96545</td>\n",
       "      <td>United States</td>\n",
       "      <td>US</td>\n",
       "      <td>True</td>\n",
       "      <td>moderate</td>\n",
       "      <td>...</td>\n",
       "      <td>2016.0</td>\n",
       "      <td>$837</td>\n",
       "      <td>$167</td>\n",
       "      <td>1.0</td>\n",
       "      <td>1.0</td>\n",
       "      <td>7/6/2015</td>\n",
       "      <td>0.02</td>\n",
       "      <td>2.0</td>\n",
       "      <td>2.0</td>\n",
       "      <td>395.0</td>\n",
       "    </tr>\n",
       "    <tr>\n",
       "      <th>102596</th>\n",
       "      <td>69050334417</td>\n",
       "      <td>unconfirmed</td>\n",
       "      <td>Brooklyn</td>\n",
       "      <td>Park Slope</td>\n",
       "      <td>40.67505</td>\n",
       "      <td>-73.98045</td>\n",
       "      <td>United States</td>\n",
       "      <td>US</td>\n",
       "      <td>True</td>\n",
       "      <td>moderate</td>\n",
       "      <td>...</td>\n",
       "      <td>2009.0</td>\n",
       "      <td>$988</td>\n",
       "      <td>$198</td>\n",
       "      <td>3.0</td>\n",
       "      <td>0.0</td>\n",
       "      <td>NaN</td>\n",
       "      <td>NaN</td>\n",
       "      <td>5.0</td>\n",
       "      <td>1.0</td>\n",
       "      <td>342.0</td>\n",
       "    </tr>\n",
       "    <tr>\n",
       "      <th>102597</th>\n",
       "      <td>11160591270</td>\n",
       "      <td>unconfirmed</td>\n",
       "      <td>Queens</td>\n",
       "      <td>Long Island City</td>\n",
       "      <td>40.74989</td>\n",
       "      <td>-73.93777</td>\n",
       "      <td>United States</td>\n",
       "      <td>US</td>\n",
       "      <td>True</td>\n",
       "      <td>strict</td>\n",
       "      <td>...</td>\n",
       "      <td>2015.0</td>\n",
       "      <td>$546</td>\n",
       "      <td>$109</td>\n",
       "      <td>2.0</td>\n",
       "      <td>5.0</td>\n",
       "      <td>10/11/2015</td>\n",
       "      <td>0.10</td>\n",
       "      <td>3.0</td>\n",
       "      <td>1.0</td>\n",
       "      <td>386.0</td>\n",
       "    </tr>\n",
       "    <tr>\n",
       "      <th>102598</th>\n",
       "      <td>68170633372</td>\n",
       "      <td>unconfirmed</td>\n",
       "      <td>Manhattan</td>\n",
       "      <td>Upper West Side</td>\n",
       "      <td>40.76807</td>\n",
       "      <td>-73.98342</td>\n",
       "      <td>United States</td>\n",
       "      <td>US</td>\n",
       "      <td>False</td>\n",
       "      <td>flexible</td>\n",
       "      <td>...</td>\n",
       "      <td>2010.0</td>\n",
       "      <td>$1,032</td>\n",
       "      <td>$206</td>\n",
       "      <td>1.0</td>\n",
       "      <td>0.0</td>\n",
       "      <td>NaN</td>\n",
       "      <td>NaN</td>\n",
       "      <td>3.0</td>\n",
       "      <td>1.0</td>\n",
       "      <td>69.0</td>\n",
       "    </tr>\n",
       "  </tbody>\n",
       "</table>\n",
       "<p>102599 rows × 21 columns</p>\n",
       "</div>"
      ],
      "text/plain": [
       "            host id host_identity_verified neighbourhood group  \\\n",
       "0       80014485718            unconfirmed            Brooklyn   \n",
       "1       52335172823               verified           Manhattan   \n",
       "2       78829239556                    NaN           Manhattan   \n",
       "3       85098326012            unconfirmed            Brooklyn   \n",
       "4       92037596077               verified           Manhattan   \n",
       "...             ...                    ...                 ...   \n",
       "102594  12312296767               verified            Brooklyn   \n",
       "102595  77864383453            unconfirmed           Manhattan   \n",
       "102596  69050334417            unconfirmed            Brooklyn   \n",
       "102597  11160591270            unconfirmed              Queens   \n",
       "102598  68170633372            unconfirmed           Manhattan   \n",
       "\n",
       "              neighbourhood       lat      long        country country code  \\\n",
       "0                Kensington  40.64749 -73.97237  United States           US   \n",
       "1                   Midtown  40.75362 -73.98377  United States           US   \n",
       "2                    Harlem  40.80902 -73.94190  United States           US   \n",
       "3              Clinton Hill  40.68514 -73.95976  United States           US   \n",
       "4               East Harlem  40.79851 -73.94399  United States           US   \n",
       "...                     ...       ...       ...            ...          ...   \n",
       "102594         Williamsburg  40.70862 -73.94651  United States           US   \n",
       "102595  Morningside Heights  40.80460 -73.96545  United States           US   \n",
       "102596           Park Slope  40.67505 -73.98045  United States           US   \n",
       "102597     Long Island City  40.74989 -73.93777  United States           US   \n",
       "102598      Upper West Side  40.76807 -73.98342  United States           US   \n",
       "\n",
       "       instant_bookable cancellation_policy  ... Construction year    price  \\\n",
       "0                 False              strict  ...            2020.0    $966    \n",
       "1                 False            moderate  ...            2007.0    $142    \n",
       "2                  True            flexible  ...            2005.0    $620    \n",
       "3                  True            moderate  ...            2005.0    $368    \n",
       "4                 False            moderate  ...            2009.0    $204    \n",
       "...                 ...                 ...  ...               ...      ...   \n",
       "102594            False            flexible  ...            2003.0    $844    \n",
       "102595             True            moderate  ...            2016.0    $837    \n",
       "102596             True            moderate  ...            2009.0    $988    \n",
       "102597             True              strict  ...            2015.0    $546    \n",
       "102598            False            flexible  ...            2010.0  $1,032    \n",
       "\n",
       "       service fee minimum nights  number of reviews  last review  \\\n",
       "0            $193            10.0                9.0   10/19/2021   \n",
       "1             $28            30.0               45.0    5/21/2022   \n",
       "2            $124             3.0                0.0          NaN   \n",
       "3             $74            30.0              270.0     7/5/2019   \n",
       "4             $41            10.0                9.0   11/19/2018   \n",
       "...            ...            ...                ...          ...   \n",
       "102594       $169             1.0                0.0          NaN   \n",
       "102595       $167             1.0                1.0     7/6/2015   \n",
       "102596       $198             3.0                0.0          NaN   \n",
       "102597       $109             2.0                5.0   10/11/2015   \n",
       "102598       $206             1.0                0.0          NaN   \n",
       "\n",
       "       reviews per month  review rate number  calculated host listings count  \\\n",
       "0                   0.21                 4.0                             6.0   \n",
       "1                   0.38                 4.0                             2.0   \n",
       "2                    NaN                 5.0                             1.0   \n",
       "3                   4.64                 4.0                             1.0   \n",
       "4                   0.10                 3.0                             1.0   \n",
       "...                  ...                 ...                             ...   \n",
       "102594               NaN                 3.0                             1.0   \n",
       "102595              0.02                 2.0                             2.0   \n",
       "102596               NaN                 5.0                             1.0   \n",
       "102597              0.10                 3.0                             1.0   \n",
       "102598               NaN                 3.0                             1.0   \n",
       "\n",
       "        availability 365  \n",
       "0                  286.0  \n",
       "1                  228.0  \n",
       "2                  352.0  \n",
       "3                  322.0  \n",
       "4                  289.0  \n",
       "...                  ...  \n",
       "102594             227.0  \n",
       "102595             395.0  \n",
       "102596             342.0  \n",
       "102597             386.0  \n",
       "102598              69.0  \n",
       "\n",
       "[102599 rows x 21 columns]"
      ]
     },
     "execution_count": 18,
     "metadata": {},
     "output_type": "execute_result"
    }
   ],
   "source": [
    "from sklearn.impute import SimpleImputer\n",
    "\n",
    "imputer = SimpleImputer(strategy=\"most_frequent\")\n",
    "\n",
    "df[[\"country\"]] = imputer.fit_transform(df[[\"country\"]])\n",
    "\n",
    "df"
   ]
  },
  {
   "cell_type": "markdown",
   "id": "b66f9e10",
   "metadata": {},
   "source": [
    "### Pending missing values"
   ]
  },
  {
   "cell_type": "code",
   "execution_count": 19,
   "id": "d989c4fd",
   "metadata": {},
   "outputs": [
    {
     "data": {
      "text/plain": [
       "last review                       15.49\n",
       "reviews per month                 15.48\n",
       "availability 365                   0.44\n",
       "minimum nights                     0.40\n",
       "review rate number                 0.32\n",
       "calculated host listings count     0.31\n",
       "host_identity_verified             0.28\n",
       "service fee                        0.27\n",
       "price                              0.24\n",
       "Construction year                  0.21\n",
       "number of reviews                  0.18\n",
       "country code                       0.13\n",
       "instant_bookable                   0.10\n",
       "cancellation_policy                0.07\n",
       "neighbourhood group                0.03\n",
       "neighbourhood                      0.02\n",
       "lat                                0.01\n",
       "long                               0.01\n",
       "host id                            0.00\n",
       "country                            0.00\n",
       "room type                          0.00\n",
       "dtype: float64"
      ]
     },
     "execution_count": 19,
     "metadata": {},
     "output_type": "execute_result"
    }
   ],
   "source": [
    "round(df.isna().sum().sort_values(ascending=False)/len(df)*100,2)"
   ]
  },
  {
   "cell_type": "code",
   "execution_count": 20,
   "id": "55abbf20",
   "metadata": {},
   "outputs": [
    {
     "data": {
      "text/plain": [
       "last review                       15893\n",
       "reviews per month                 15879\n",
       "availability 365                    448\n",
       "minimum nights                      409\n",
       "review rate number                  326\n",
       "calculated host listings count      319\n",
       "host_identity_verified              289\n",
       "service fee                         273\n",
       "price                               247\n",
       "Construction year                   214\n",
       "number of reviews                   183\n",
       "country code                        131\n",
       "instant_bookable                    105\n",
       "cancellation_policy                  76\n",
       "neighbourhood group                  29\n",
       "neighbourhood                        16\n",
       "lat                                   8\n",
       "long                                  8\n",
       "host id                               0\n",
       "country                               0\n",
       "room type                             0\n",
       "dtype: int64"
      ]
     },
     "execution_count": 20,
     "metadata": {},
     "output_type": "execute_result"
    }
   ],
   "source": [
    "df.isnull().sum().sort_values(ascending=False)"
   ]
  },
  {
   "cell_type": "code",
   "execution_count": 21,
   "id": "b6920c8e",
   "metadata": {},
   "outputs": [
    {
     "data": {
      "text/plain": [
       "224"
      ]
     },
     "execution_count": 21,
     "metadata": {},
     "output_type": "execute_result"
    }
   ],
   "source": [
    "df[\"neighbourhood\"].nunique()"
   ]
  },
  {
   "cell_type": "code",
   "execution_count": 22,
   "id": "38663f18",
   "metadata": {},
   "outputs": [],
   "source": [
    "df = df.drop(columns=['neighbourhood'])"
   ]
  },
  {
   "cell_type": "code",
   "execution_count": 23,
   "id": "f0b22092",
   "metadata": {},
   "outputs": [],
   "source": [
    "df = df.drop(columns=['country code'])"
   ]
  },
  {
   "cell_type": "code",
   "execution_count": 24,
   "id": "5f06f019",
   "metadata": {},
   "outputs": [
    {
     "name": "stdout",
     "output_type": "stream",
     "text": [
      "<class 'pandas.core.frame.DataFrame'>\n",
      "RangeIndex: 102599 entries, 0 to 102598\n",
      "Data columns (total 19 columns):\n",
      " #   Column                          Non-Null Count   Dtype  \n",
      "---  ------                          --------------   -----  \n",
      " 0   host id                         102599 non-null  int64  \n",
      " 1   host_identity_verified          102310 non-null  object \n",
      " 2   neighbourhood group             102570 non-null  object \n",
      " 3   lat                             102591 non-null  float64\n",
      " 4   long                            102591 non-null  float64\n",
      " 5   country                         102599 non-null  object \n",
      " 6   instant_bookable                102494 non-null  object \n",
      " 7   cancellation_policy             102523 non-null  object \n",
      " 8   room type                       102599 non-null  object \n",
      " 9   Construction year               102385 non-null  float64\n",
      " 10  price                           102352 non-null  object \n",
      " 11  service fee                     102326 non-null  object \n",
      " 12  minimum nights                  102190 non-null  float64\n",
      " 13  number of reviews               102416 non-null  float64\n",
      " 14  last review                     86706 non-null   object \n",
      " 15  reviews per month               86720 non-null   float64\n",
      " 16  review rate number              102273 non-null  float64\n",
      " 17  calculated host listings count  102280 non-null  float64\n",
      " 18  availability 365                102151 non-null  float64\n",
      "dtypes: float64(9), int64(1), object(9)\n",
      "memory usage: 14.9+ MB\n"
     ]
    }
   ],
   "source": [
    "df.info()"
   ]
  },
  {
   "cell_type": "markdown",
   "id": "cc889ebb",
   "metadata": {},
   "source": [
    "### Neighbourhood group: Visualizations"
   ]
  },
  {
   "cell_type": "code",
   "execution_count": 25,
   "id": "8ab2723d",
   "metadata": {},
   "outputs": [
    {
     "data": {
      "text/plain": [
       "<AxesSubplot:xlabel='neighbourhood group', ylabel='Count'>"
      ]
     },
     "execution_count": 25,
     "metadata": {},
     "output_type": "execute_result"
    },
    {
     "data": {
      "image/png": "[encoded data removed]",
      "text/plain": [
       "<Figure size 1008x720 with 1 Axes>"
      ]
     },
     "metadata": {
      "needs_background": "light"
     },
     "output_type": "display_data"
    }
   ],
   "source": [
    "plt.figure(figsize=(14,10))\n",
    "sns.histplot(data = df, x=\"neighbourhood group\")"
   ]
  },
  {
   "cell_type": "code",
   "execution_count": 26,
   "id": "d313e5fb",
   "metadata": {},
   "outputs": [
    {
     "data": {
      "text/plain": [
       "Manhattan        43792\n",
       "Brooklyn         41842\n",
       "Queens           13267\n",
       "Bronx             2712\n",
       "Staten Island      955\n",
       "brookln              1\n",
       "manhatan             1\n",
       "Name: neighbourhood group, dtype: int64"
      ]
     },
     "execution_count": 26,
     "metadata": {},
     "output_type": "execute_result"
    }
   ],
   "source": [
    "df['neighbourhood group'].value_counts()"
   ]
  },
  {
   "cell_type": "code",
   "execution_count": 27,
   "id": "89d9c92e",
   "metadata": {},
   "outputs": [],
   "source": [
    "df['neighbourhood group'] = df['neighbourhood group'].replace({'brookln': 'Brooklyn', 'manhatan': 'Manhattan'})"
   ]
  },
  {
   "cell_type": "code",
   "execution_count": 28,
   "id": "d5dab98d",
   "metadata": {},
   "outputs": [
    {
     "data": {
      "text/plain": [
       "Manhattan        43793\n",
       "Brooklyn         41843\n",
       "Queens           13267\n",
       "Bronx             2712\n",
       "Staten Island      955\n",
       "Name: neighbourhood group, dtype: int64"
      ]
     },
     "execution_count": 28,
     "metadata": {},
     "output_type": "execute_result"
    }
   ],
   "source": [
    "df['neighbourhood group'].value_counts()"
   ]
  },
  {
   "cell_type": "code",
   "execution_count": 29,
   "id": "8b72d894",
   "metadata": {
    "scrolled": false
   },
   "outputs": [
    {
     "data": {
      "text/plain": [
       "<AxesSubplot:title={'center':'Neighbourhood Group'}, xlabel='neighbourhood group', ylabel='Count'>"
      ]
     },
     "execution_count": 29,
     "metadata": {},
     "output_type": "execute_result"
    },
    {
     "data": {
      "image/png": "[encoded data removed]",
      "text/plain": [
       "<Figure size 1008x720 with 1 Axes>"
      ]
     },
     "metadata": {
      "needs_background": "light"
     },
     "output_type": "display_data"
    }
   ],
   "source": [
    "plt.figure(figsize=(14,10))\n",
    "plt.title(\"Neighbourhood Group\")\n",
    "sns.histplot(data = df, x=\"neighbourhood group\")"
   ]
  },
  {
   "cell_type": "code",
   "execution_count": null,
   "id": "b1696bac",
   "metadata": {},
   "outputs": [],
   "source": []
  },
  {
   "cell_type": "markdown",
   "id": "c1eb5a71",
   "metadata": {},
   "source": [
    "## Change numerical columns to float"
   ]
  },
  {
   "cell_type": "code",
   "execution_count": 30,
   "id": "ea676f41",
   "metadata": {},
   "outputs": [
    {
     "name": "stdout",
     "output_type": "stream",
     "text": [
      "<class 'pandas.core.frame.DataFrame'>\n",
      "RangeIndex: 102599 entries, 0 to 102598\n",
      "Data columns (total 19 columns):\n",
      " #   Column                          Non-Null Count   Dtype  \n",
      "---  ------                          --------------   -----  \n",
      " 0   host id                         102599 non-null  int64  \n",
      " 1   host_identity_verified          102310 non-null  object \n",
      " 2   neighbourhood group             102570 non-null  object \n",
      " 3   lat                             102591 non-null  float64\n",
      " 4   long                            102591 non-null  float64\n",
      " 5   country                         102599 non-null  object \n",
      " 6   instant_bookable                102494 non-null  object \n",
      " 7   cancellation_policy             102523 non-null  object \n",
      " 8   room type                       102599 non-null  object \n",
      " 9   Construction year               102385 non-null  float64\n",
      " 10  price                           102352 non-null  object \n",
      " 11  service fee                     102326 non-null  object \n",
      " 12  minimum nights                  102190 non-null  float64\n",
      " 13  number of reviews               102416 non-null  float64\n",
      " 14  last review                     86706 non-null   object \n",
      " 15  reviews per month               86720 non-null   float64\n",
      " 16  review rate number              102273 non-null  float64\n",
      " 17  calculated host listings count  102280 non-null  float64\n",
      " 18  availability 365                102151 non-null  float64\n",
      "dtypes: float64(9), int64(1), object(9)\n",
      "memory usage: 14.9+ MB\n"
     ]
    }
   ],
   "source": [
    "df.info()"
   ]
  },
  {
   "cell_type": "markdown",
   "id": "3279bef4",
   "metadata": {},
   "source": [
    "**Change price and service fee from object to float**"
   ]
  },
  {
   "cell_type": "code",
   "execution_count": 31,
   "id": "19d11735",
   "metadata": {
    "scrolled": false
   },
   "outputs": [
    {
     "name": "stderr",
     "output_type": "stream",
     "text": [
      "/var/folders/09/89vgqkmd3mq14q_6bkk_t7vm0000gn/T/ipykernel_67174/1281994989.py:1: FutureWarning: The default value of regex will change from True to False in a future version. In addition, single character regular expressions will *not* be treated as literal strings when regex=True.\n",
      "  df['price'] = df['price'].str.replace(\"$\",\"\")\n"
     ]
    },
    {
     "data": {
      "text/plain": [
       "0          966.0\n",
       "1          142.0\n",
       "2          620.0\n",
       "3          368.0\n",
       "4          204.0\n",
       "           ...  \n",
       "102594     844.0\n",
       "102595     837.0\n",
       "102596     988.0\n",
       "102597     546.0\n",
       "102598    1032.0\n",
       "Name: price, Length: 102599, dtype: float64"
      ]
     },
     "execution_count": 31,
     "metadata": {},
     "output_type": "execute_result"
    }
   ],
   "source": [
    "df['price'] = df['price'].str.replace(\"$\",\"\")\n",
    "df['price'] = df['price'].str.replace(',',\"\")\n",
    "df['price'] = df['price'].astype(float)\n",
    "df['price']"
   ]
  },
  {
   "cell_type": "code",
   "execution_count": 32,
   "id": "da144f1b",
   "metadata": {},
   "outputs": [
    {
     "name": "stderr",
     "output_type": "stream",
     "text": [
      "/var/folders/09/89vgqkmd3mq14q_6bkk_t7vm0000gn/T/ipykernel_67174/698127665.py:1: FutureWarning: The default value of regex will change from True to False in a future version. In addition, single character regular expressions will *not* be treated as literal strings when regex=True.\n",
      "  df['service fee'] = df['service fee'].str.replace(\"$\",\"\")\n"
     ]
    },
    {
     "data": {
      "text/plain": [
       "0         193.0\n",
       "1          28.0\n",
       "2         124.0\n",
       "3          74.0\n",
       "4          41.0\n",
       "          ...  \n",
       "102594    169.0\n",
       "102595    167.0\n",
       "102596    198.0\n",
       "102597    109.0\n",
       "102598    206.0\n",
       "Name: service fee, Length: 102599, dtype: float64"
      ]
     },
     "execution_count": 32,
     "metadata": {},
     "output_type": "execute_result"
    }
   ],
   "source": [
    "df['service fee'] = df['service fee'].str.replace(\"$\",\"\")\n",
    "df['service fee'] = df['service fee'].astype(float)\n",
    "df['service fee']"
   ]
  },
  {
   "cell_type": "code",
   "execution_count": 33,
   "id": "14c8b241",
   "metadata": {},
   "outputs": [
    {
     "name": "stdout",
     "output_type": "stream",
     "text": [
      "<class 'pandas.core.frame.DataFrame'>\n",
      "RangeIndex: 102599 entries, 0 to 102598\n",
      "Data columns (total 19 columns):\n",
      " #   Column                          Non-Null Count   Dtype  \n",
      "---  ------                          --------------   -----  \n",
      " 0   host id                         102599 non-null  int64  \n",
      " 1   host_identity_verified          102310 non-null  object \n",
      " 2   neighbourhood group             102570 non-null  object \n",
      " 3   lat                             102591 non-null  float64\n",
      " 4   long                            102591 non-null  float64\n",
      " 5   country                         102599 non-null  object \n",
      " 6   instant_bookable                102494 non-null  object \n",
      " 7   cancellation_policy             102523 non-null  object \n",
      " 8   room type                       102599 non-null  object \n",
      " 9   Construction year               102385 non-null  float64\n",
      " 10  price                           102352 non-null  float64\n",
      " 11  service fee                     102326 non-null  float64\n",
      " 12  minimum nights                  102190 non-null  float64\n",
      " 13  number of reviews               102416 non-null  float64\n",
      " 14  last review                     86706 non-null   object \n",
      " 15  reviews per month               86720 non-null   float64\n",
      " 16  review rate number              102273 non-null  float64\n",
      " 17  calculated host listings count  102280 non-null  float64\n",
      " 18  availability 365                102151 non-null  float64\n",
      "dtypes: float64(11), int64(1), object(7)\n",
      "memory usage: 14.9+ MB\n"
     ]
    }
   ],
   "source": [
    "df.info()"
   ]
  },
  {
   "cell_type": "code",
   "execution_count": 34,
   "id": "ec02e3b7",
   "metadata": {},
   "outputs": [
    {
     "data": {
      "text/plain": [
       "<AxesSubplot:xlabel='price', ylabel='Count'>"
      ]
     },
     "execution_count": 34,
     "metadata": {},
     "output_type": "execute_result"
    },
    {
     "data": {
      "image/png": "[encoded data removed]",
      "text/plain": [
       "<Figure size 576x360 with 1 Axes>"
      ]
     },
     "metadata": {
      "needs_background": "light"
     },
     "output_type": "display_data"
    }
   ],
   "source": [
    "plt.figure(figsize=(8,5))\n",
    "sns.histplot(data=df, x=\"price\", kde=True, bins=10)"
   ]
  },
  {
   "cell_type": "code",
   "execution_count": 35,
   "id": "1593887f",
   "metadata": {},
   "outputs": [
    {
     "data": {
      "text/plain": [
       "<AxesSubplot:xlabel='service fee', ylabel='Count'>"
      ]
     },
     "execution_count": 35,
     "metadata": {},
     "output_type": "execute_result"
    },
    {
     "data": {
      "image/png": "[encoded data removed]",
      "text/plain": [
       "<Figure size 576x360 with 1 Axes>"
      ]
     },
     "metadata": {
      "needs_background": "light"
     },
     "output_type": "display_data"
    }
   ],
   "source": [
    "plt.figure(figsize=(8,5))\n",
    "\n",
    "sns.histplot(data=df, x='service fee', kde=True, bins=10)"
   ]
  },
  {
   "cell_type": "markdown",
   "id": "83d2ee0f",
   "metadata": {},
   "source": [
    "### Price per neighbourhood group"
   ]
  },
  {
   "cell_type": "code",
   "execution_count": 50,
   "id": "d87d9d95",
   "metadata": {},
   "outputs": [
    {
     "data": {
      "text/plain": [
       "<AxesSubplot:xlabel='price', ylabel='Count'>"
      ]
     },
     "execution_count": 50,
     "metadata": {},
     "output_type": "execute_result"
    },
    {
     "data": {
      "image/png": "[encoded data removed]",
      "text/plain": [
       "<Figure size 432x288 with 1 Axes>"
      ]
     },
     "metadata": {
      "needs_background": "light"
     },
     "output_type": "display_data"
    }
   ],
   "source": [
    "sns.histplot(df['price'], bins=5)"
   ]
  },
  {
   "cell_type": "markdown",
   "id": "9015d17e",
   "metadata": {},
   "source": [
    "### Room Type"
   ]
  },
  {
   "cell_type": "code",
   "execution_count": 36,
   "id": "7bb7d5de",
   "metadata": {},
   "outputs": [
    {
     "name": "stderr",
     "output_type": "stream",
     "text": [
      "/Users/marielyngholm/.pyenv/versions/3.8.12/envs/lewagon/lib/python3.8/site-packages/seaborn/_decorators.py:36: FutureWarning: Pass the following variable as a keyword arg: x. From version 0.12, the only valid positional argument will be `data`, and passing other arguments without an explicit keyword will result in an error or misinterpretation.\n",
      "  warnings.warn(\n"
     ]
    },
    {
     "data": {
      "text/plain": [
       "<AxesSubplot:xlabel='room type', ylabel='count'>"
      ]
     },
     "execution_count": 36,
     "metadata": {},
     "output_type": "execute_result"
    },
    {
     "data": {
      "image/png": "[encoded data removed]",
      "text/plain": [
       "<Figure size 1080x360 with 1 Axes>"
      ]
     },
     "metadata": {
      "needs_background": "light"
     },
     "output_type": "display_data"
    }
   ],
   "source": [
    "plt.figure(figsize=(15,5))\n",
    "sns.set_palette(\"Paired\")\n",
    "sns.countplot(df['room type'])"
   ]
  },
  {
   "cell_type": "code",
   "execution_count": 37,
   "id": "4e702796",
   "metadata": {},
   "outputs": [
    {
     "name": "stderr",
     "output_type": "stream",
     "text": [
      "/Users/marielyngholm/.pyenv/versions/3.8.12/envs/lewagon/lib/python3.8/site-packages/seaborn/_decorators.py:36: FutureWarning: Pass the following variable as a keyword arg: x. From version 0.12, the only valid positional argument will be `data`, and passing other arguments without an explicit keyword will result in an error or misinterpretation.\n",
      "  warnings.warn(\n"
     ]
    },
    {
     "data": {
      "text/plain": [
       "<AxesSubplot:xlabel='neighbourhood group', ylabel='count'>"
      ]
     },
     "execution_count": 37,
     "metadata": {},
     "output_type": "execute_result"
    },
    {
     "data": {
      "image/png": "[encoded data removed]",
      "text/plain": [
       "<Figure size 1080x360 with 1 Axes>"
      ]
     },
     "metadata": {
      "needs_background": "light"
     },
     "output_type": "display_data"
    }
   ],
   "source": [
    "plt.figure(figsize=(15,5))\n",
    "sns.countplot(df['neighbourhood group'], hue=df['room type'])"
   ]
  },
  {
   "cell_type": "code",
   "execution_count": null,
   "id": "24950655",
   "metadata": {},
   "outputs": [],
   "source": []
  },
  {
   "cell_type": "code",
   "execution_count": null,
   "id": "68cf2d6a",
   "metadata": {},
   "outputs": [],
   "source": []
  },
  {
   "cell_type": "code",
   "execution_count": null,
   "id": "8444df5b",
   "metadata": {},
   "outputs": [],
   "source": []
  }
 ],
 "metadata": {
  "kernelspec": {
   "display_name": "Python 3 (ipykernel)",
   "language": "python",
   "name": "python3"
  },
  "language_info": {
   "codemirror_mode": {
    "name": "ipython",
    "version": 3
   },
   "file_extension": ".py",
   "mimetype": "text/x-python",
   "name": "python",
   "nbconvert_exporter": "python",
   "pygments_lexer": "ipython3",
   "version": "3.8.12"
  },
  "toc": {
   "base_numbering": 1,
   "nav_menu": {},
   "number_sections": true,
   "sideBar": true,
   "skip_h1_title": false,
   "title_cell": "Table of Contents",
   "title_sidebar": "Contents",
   "toc_cell": false,
   "toc_position": {},
   "toc_section_display": true,
   "toc_window_display": false
  }
 },
 "nbformat": 4,
 "nbformat_minor": 5
}
